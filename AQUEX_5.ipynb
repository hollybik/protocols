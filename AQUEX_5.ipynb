{
 "metadata": {
  "name": "",
  "signature": "sha256:8d24ec2e6aaab383119fae20dc88f4cd47227894ba3e715eaca7496e68793ae8"
 },
 "nbformat": 3,
 "nbformat_minor": 0,
 "worksheets": [
  {
   "cells": [
    {
     "cell_type": "markdown",
     "metadata": {},
     "source": [
      "Downloaded data from Merlot (5th demultiplexing run, MPF (Merged plus forward reads) and MPR (Merged plus reverse reads) files"
     ]
    },
    {
     "cell_type": "code",
     "collapsed": false,
     "input": [
      "scp hbik@merlot.genomecenter.ucdavis.edu:/share/eisen-z2/gjospin/misc/AQUEXP/AQUEXP_all_MP*_5.fasta.gz ."
     ],
     "language": "python",
     "metadata": {},
     "outputs": []
    },
    {
     "cell_type": "heading",
     "level": 2,
     "metadata": {},
     "source": [
      "Closed-ref OTU picking on Amazon AWS (m2.4xlarge instance):"
     ]
    },
    {
     "cell_type": "markdown",
     "metadata": {},
     "source": [
      "Here's the parameter file we're using for closed ref OTU pikcing. The main modification is using the --enable_rev_strand_match flag to test sequences against the databaise in both normal and reverse complement orientation.  The other parameters are mostly defaults. Note that although the parameter file specifies the RDP classifer as that taxonomy assignment step, this is actually ignored (we are using the default uclust taxonomy assigner in QIIME 1.8, executed manually downstream)."
     ]
    },
    {
     "cell_type": "code",
     "collapsed": false,
     "input": [
      "cat /Users/hollybik/Desktop/data/aquarium_data/parameters_mapping_files/qiime_parameters_16S_closedref_amazon_9Jul14.txt"
     ],
     "language": "python",
     "metadata": {},
     "outputs": [
      {
       "output_type": "stream",
       "stream": "stdout",
       "text": [
        "# qiime_parameters.txt\r\n",
        "# WARNING: DO NOT EDIT OR DELETE Qiime/qiime_parameters.txt. Users should copy this file and edit copies of it.\r\n",
        "\r\n",
        "# OTU picker parameters\r\n",
        "pick_otus:similarity\t0.97\r\n",
        "pick_otus:enable_rev_strand_match\tTrue\r\n",
        "\r\n",
        "# Representative set picker parameters\r\n",
        "pick_rep_set:rep_set_picking_method\tfirst\r\n",
        "pick_rep_set:sort_by\totu\r\n",
        "\r\n",
        "# Multiple sequence alignment parameters\r\n",
        "align_seqs:template_fp\t/home/ubuntu/qiime_software/gg_otus-13_8-release/rep_set_aligned/97_otus.fasta\r\n",
        "align_seqs:alignment_method\tpynast\r\n",
        "align_seqs:pairwise_alignment_method\tuclust\r\n",
        "\r\n",
        "# Taxonomy assignment parameters\r\n",
        "assign_taxonomy:id_to_taxonomy_fp\t/home/ubuntu/qiime_software/gg_otus-13_8-release/taxonomy/97_otu_taxonomy.txt\r\n",
        "assign_taxonomy:reference_seqs_fp\t/home/ubuntu/qiime_software/gg_otus-13_8-release/rep_set/97_otus.fasta\r\n",
        "assign_taxonomy:assignment_method\trdp\r\n",
        "assign_taxonomy:confidence\t0.7\r\n",
        "\r\n"
       ]
      }
     ],
     "prompt_number": 1
    },
    {
     "cell_type": "heading",
     "level": 3,
     "metadata": {},
     "source": [
      "Closed ref script for MPF sequences:"
     ]
    },
    {
     "cell_type": "code",
     "collapsed": false,
     "input": [
      "!pick_closed_reference_otus.py -i /home/ubuntu/data/AQUEXP_all_MPF_5.fasta -o /home/ubuntu/data/MPF_uclust_97_closedref_10July14-r /home/ubuntu/qiime_software/gg_otus-13_8-release/rep_set/97_otus.fasta --parallel -O 7 -p /home/ubuntu/data/qiime_parameters_16S_closedref_amazon_9Jul14.txt"
     ],
     "language": "python",
     "metadata": {},
     "outputs": []
    },
    {
     "cell_type": "heading",
     "level": 4,
     "metadata": {},
     "source": [
      "BUT, then I found out you have to do extra steps afterwards:"
     ]
    },
    {
     "cell_type": "markdown",
     "metadata": {},
     "source": [
      "Pick rep set against Greengenes using the OTU map:"
     ]
    },
    {
     "cell_type": "code",
     "collapsed": false,
     "input": [
      "pick_rep_set.py -i AQUEXP_all_MPF_5_otus.txt -r /home/ubuntu/qiime_software/gg_otus-13_8-release/rep_set/97_otus.fasta -o /home/ubuntu/data/MPF_uclust_97_closedref_10July14/rep_set.fna"
     ],
     "language": "python",
     "metadata": {},
     "outputs": []
    },
    {
     "cell_type": "markdown",
     "metadata": {},
     "source": [
      "Assign taxonomy against the reference (using the new uclust consensus assigner):"
     ]
    },
    {
     "cell_type": "code",
     "collapsed": false,
     "input": [
      "assign_taxonomy.py -i rep_set.fna -o /home/ubuntu/data/MPF_uclust_97_closedref_10July14/uclust_assigned_tax -r /home/ubuntu/qiime_software/gg_otus-13_8-release/rep_set/97_otus.fasta -t /home/ubuntu/qiime_software/gg_otus-13_8-release/taxonomy/97_otu_taxonomy.txt"
     ],
     "language": "python",
     "metadata": {},
     "outputs": []
    },
    {
     "cell_type": "markdown",
     "metadata": {},
     "source": [
      "Make OTU table with taxonomy (not generated during closed ref OTU picking):"
     ]
    },
    {
     "cell_type": "code",
     "collapsed": false,
     "input": [
      "make_otu_table.py -i /home/ubuntu/data/MPF_uclust_97_closedref_10July14/uclust_ref_picked_otus/AQUEXP_all_MPF_5_otus.txt -t /home/ubuntu/data/MPF_uclust_97_closedref/uclust_assigned_tax/rep_set_tax_assignments.txt -o /home/ubuntu/data/MPF_uclust_97_closedref_10July14/otu_table_w_tax.biom"
     ],
     "language": "python",
     "metadata": {},
     "outputs": []
    },
    {
     "cell_type": "heading",
     "level": 3,
     "metadata": {},
     "source": [
      "Closed ref script used for MPR run"
     ]
    },
    {
     "cell_type": "markdown",
     "metadata": {},
     "source": [
      "Used the taxonomy mapping file flag this time to see if it automatically does the pick rep set and make .biom table with taxonomy (instead of me having to do it manually):"
     ]
    },
    {
     "cell_type": "code",
     "collapsed": false,
     "input": [
      "pick_closed_reference_otus.py -i /home/ubuntu/data/AQUEXP_all_MPR_5.fasta -o /home/ubuntu/data/MPR_uclust_97_closedref_10July14 -r /home/ubuntu/qiime_software/gg_otus-13_8-release/rep_set/97_otus.fasta -t /home/ubuntu/qiime_software/gg_otus-13_8-release/taxonomy/97_otu_taxonomy.txt --parallel -O 7 -p /home/ubuntu/data/qiime_parameters_16S_closedref_amazon_9Jul14.txt"
     ],
     "language": "python",
     "metadata": {},
     "outputs": []
    },
    {
     "cell_type": "markdown",
     "metadata": {},
     "source": [
      "Nope, adding in the taxonomy file didn't result in any taxonomy outputs (?!), so we have to do the same manual steps of picking the rep set, assigning taxonomy with uclust assigner, and then making the OTU table with taxonomy:"
     ]
    },
    {
     "cell_type": "code",
     "collapsed": false,
     "input": [
      "pick_rep_set.py -i /Users/hollybik/Desktop/data/aquarium_data/MPR_uclust_97_closedref_10July14/uclust_ref_picked_otus/AQUEXP_all_MPR_5_otus.txt -r /macqiime/greengenes/gg_13_8_otus/rep_set/97_otus.fasta -o rep_set.fna"
     ],
     "language": "python",
     "metadata": {},
     "outputs": []
    },
    {
     "cell_type": "code",
     "collapsed": false,
     "input": [
      "assign_taxonomy.py -i rep_set.fna -o uclust_assigned_tax -r /macqiime/greengenes/gg_13_8_otus/rep_set/97_otus.fasta -t /macqiime/greengenes/gg_13_8_otus/taxonomy/97_otu_taxonomy.txt"
     ],
     "language": "python",
     "metadata": {},
     "outputs": []
    },
    {
     "cell_type": "code",
     "collapsed": false,
     "input": [
      "make_otu_table.py -i /Users/hollybik/Desktop/data/aquarium_data/MPR_uclust_97_closedref_10July14/uclust_ref_picked_otus/AQUEXP_all_MPR_5_otus.txt -t /Users/hollybik/Desktop/data/aquarium_data/MPR_uclust_97_closedref_10July14/uclust_assigned_tax/rep_set_tax_assignments.txt -o otu_table_w_tax.biom"
     ],
     "language": "python",
     "metadata": {},
     "outputs": []
    },
    {
     "cell_type": "markdown",
     "metadata": {},
     "source": [
      "---\n",
      "Next step was to summarize the .biom files for both MPF and MPR closed-reference runs:"
     ]
    },
    {
     "cell_type": "code",
     "collapsed": false,
     "input": [
      "biom summarize-table -i otu_table_w_tax.biom -o biom_table_summary.txt"
     ],
     "language": "python",
     "metadata": {},
     "outputs": []
    },
    {
     "cell_type": "markdown",
     "metadata": {},
     "source": [
      "Summary for MPF_uclust_97_closedref_10July14. From this I'd say we probably try rarifying at both 100 and 1000 sequences."
     ]
    },
    {
     "cell_type": "markdown",
     "metadata": {},
     "source": [
      "Summary for MPR_uclust_97_closedref_10July14. From this I'd say we probably try rarifying at both 100 and 1000 sequences."
     ]
    },
    {
     "cell_type": "heading",
     "level": 2,
     "metadata": {},
     "source": [
      "Open-ref OTU picking on Amazon AWS (m2.4xlarge instance):"
     ]
    },
    {
     "cell_type": "markdown",
     "metadata": {},
     "source": [
      "Parameters file for Open-refernce OTU picking. Again, the main modification is activating the --enable_rev_strand_match flag:"
     ]
    },
    {
     "cell_type": "code",
     "collapsed": false,
     "input": [
      "cat /Users/hollybik/Desktop/data/aquarium_data/parameters_mapping_files/qiime_parameters_16S_openref_indoorevol_18July14.txt"
     ],
     "language": "python",
     "metadata": {},
     "outputs": [
      {
       "output_type": "stream",
       "stream": "stdout",
       "text": [
        "# qiime_parameters.txt\r\n",
        "# WARNING: DO NOT EDIT OR DELETE Qiime/qiime_parameters.txt. Users should copy this file and edit copies of it.\r\n",
        "\r\n",
        "# OTU picker parameters\r\n",
        "pick_otus:enable_rev_strand_match\tTrue\r\n",
        "\r\n",
        "# Multiple sequence alignment parameters\r\n",
        "align_seqs:template_fp\t/home/ubuntu/qiime_software/gg_otus-13_8-release/rep_set_aligned/97_otus.fasta\r\n",
        "\r\n",
        "# Taxonomy assignment parameters\r\n",
        "assign_taxonomy:id_to_taxonomy_fp\t/home/ubuntu/qiime_software/gg_otus-13_8-release/taxonomy/97_otu_taxonomy.txt\r\n",
        "assign_taxonomy:reference_seqs_fp\t/home/ubuntu/qiime_software/gg_otus-13_8-release/rep_set/97_otus.fasta\r\n"
       ]
      }
     ],
     "prompt_number": 2
    },
    {
     "cell_type": "code",
     "collapsed": false,
     "input": [
      "pick_open_reference_otus.py -i /home/ubuntu/data/AQUEXP_all_MPF_5.fasta -r /home/ubuntu/qiime_software/gg_otus-13_8-release/rep_set/97_otus.fasta -o /home/ubuntu/data/MPF_uclust_97_openref_10pctsub_18July14 -p /home/ubuntu/data/qiime_parameters_16S_openref_indoorevol_18July14.txt --parallel -O 7 -s 0.10"
     ],
     "language": "python",
     "metadata": {},
     "outputs": []
    },
    {
     "cell_type": "code",
     "collapsed": false,
     "input": [
      "pick_open_reference_otus.py -i /home/ubuntu/data/AQUEXP_all_MPR_5.fasta -r /home/ubuntu/qiime_software/gg_otus-13_8-release/rep_set/97_otus.fasta -o /home/ubuntu/data/MPR_uclust_97_openref_10pctsub_20July14 -p /home/ubuntu/data/qiime_parameters_16S_openref_indoorevol_18July14.txt --parallel -O 7 -s 0.10"
     ],
     "language": "python",
     "metadata": {},
     "outputs": []
    },
    {
     "cell_type": "markdown",
     "metadata": {},
     "source": [
      "After both finished, ran the .biom summarize command:"
     ]
    },
    {
     "cell_type": "code",
     "collapsed": false,
     "input": [
      "biom summarize-table -i otu_table_mc2_w_tax.biom -o biom_table_summary.txt"
     ],
     "language": "python",
     "metadata": {},
     "outputs": []
    },
    {
     "cell_type": "markdown",
     "metadata": {},
     "source": [
      "Summary for MPF_uclust_97_openref_10pctsub_18July14 - lots of samples that are going to drop out because of low read count. Suggest rarifying at 100 (and maybe upping that to 1000 too)"
     ]
    },
    {
     "cell_type": "markdown",
     "metadata": {},
     "source": [
      "Similar story for MPR_uclust_97_openref_10pctsub_20July14 - to prevent lots of samples dropping out we could rarify at 100 (and maybe 1000 too)"
     ]
    },
    {
     "cell_type": "markdown",
     "metadata": {},
     "source": [
      "---\n",
      "###Core Diversity Analysis###\n",
      "\n",
      "Running using Alex's files (MPF open ref OTU runs - she filtered the OTU tables and redid mapping file). Running now on Amazon AWS"
     ]
    },
    {
     "cell_type": "code",
     "collapsed": false,
     "input": [
      "core_diversity_analyses.py -i /home/ubuntu/data/alex_files_20Aug14/filtered_AQEXP5_otu.biom -o /home/ubuntu/data/alex_files_20Aug14/AQUEXPcorediv -m /home/ubuntu/data/alex_files_20Aug14/AQmapfile_ALLRUNS5_minus.txt -e 1238 -c Description -v -t /home/ubuntu/data/alex_files_20Aug14/AQUEXPphylo.tre --recover_from_failure"
     ],
     "language": "python",
     "metadata": {},
     "outputs": []
    },
    {
     "cell_type": "markdown",
     "metadata": {},
     "source": [
      "---\n",
      "\n",
      "###Filtering OTU Tables###\n",
      "\n",
      "Filtering tables based on the \"minus\" sample mapping file that Alex prepped\n",
      "\n",
      "**MPF_uclust_97_closedref_10July14**"
     ]
    },
    {
     "cell_type": "code",
     "collapsed": false,
     "input": [
      "!filter_samples_from_otu_table.py -i /Users/hollybik/Desktop/data/aquarium_data/MPF_uclust_97_closedref_10July14/otu_table_w_tax.biom -o /Users/hollybik/Desktop/data/aquarium_data/MPF_uclust_97_closedref_10July14/otu_table_w_tax_filtered_12Sept14.biom --sample_id_fp=/Users/hollybik/Desktop/data/aquarium_data/parameters_mapping_files/samples_to_keep_uniq_12Sept14.txt"
     ],
     "language": "python",
     "metadata": {},
     "outputs": []
    },
    {
     "cell_type": "code",
     "collapsed": false,
     "input": [
      "!filter_otus_from_otu_table.py -i /Users/hollybik/Desktop/data/aquarium_data/MPF_uclust_97_closedref_10July14/otu_table_w_tax_filtered_12Sept14.biom -o /Users/hollybik/Desktop/data/aquarium_data/MPF_uclust_97_closedref_10July14/otu_table_w_tax_filtered_NOsingletons_12Sept14.biom -n 2"
     ],
     "language": "python",
     "metadata": {},
     "outputs": []
    },
    {
     "cell_type": "code",
     "collapsed": false,
     "input": [
      "!biom summarize-table -i otu_table_w_tax_filtered_NOsingletons_12Sept14.biom -o filtered_NOsingletons_biom_table_summary.txt"
     ],
     "language": "python",
     "metadata": {},
     "outputs": []
    },
    {
     "cell_type": "markdown",
     "metadata": {},
     "source": [
      "**MPF_uclust_97_openref_10pctsub_18July14**"
     ]
    },
    {
     "cell_type": "code",
     "collapsed": false,
     "input": [
      "!filter_samples_from_otu_table.py -i /Users/hollybik/Desktop/data/aquarium_data/MPF_uclust_97_openref_10pctsub_18July14/otu_table_mc2_w_tax.biom -o /Users/hollybik/Desktop/data/aquarium_data/MPF_uclust_97_openref_10pctsub_18July14/otu_table_mc2_w_tax_filtered_12Sept14.biom --sample_id_fp=/Users/hollybik/Desktop/data/aquarium_data/parameters_mapping_files/samples_to_keep_uniq_12Sept14.txt"
     ],
     "language": "python",
     "metadata": {},
     "outputs": []
    },
    {
     "cell_type": "code",
     "collapsed": false,
     "input": [
      "!filter_otus_from_otu_table.py -i /Users/hollybik/Desktop/data/aquarium_data/MPF_uclust_97_openref_10pctsub_18July14/otu_table_mc2_w_tax_filtered_12Sept14.biom -o /Users/hollybik/Desktop/data/aquarium_data/MPF_uclust_97_openref_10pctsub_18July14/otu_table_mc2_w_tax_filtered_NOsingletons_12Sept14.biom -n 2"
     ],
     "language": "python",
     "metadata": {},
     "outputs": []
    },
    {
     "cell_type": "code",
     "collapsed": false,
     "input": [
      "!biom summarize-table -i otu_table_mc2_w_tax_filtered_NOsingletons_12Sept14.biom -o filtered_NOsingletons_biom_table_summary.txt"
     ],
     "language": "python",
     "metadata": {},
     "outputs": []
    },
    {
     "cell_type": "markdown",
     "metadata": {},
     "source": [
      "**MPR_uclust_97_closedref_10July14**"
     ]
    },
    {
     "cell_type": "code",
     "collapsed": false,
     "input": [
      "!filter_samples_from_otu_table.py -i /Users/hollybik/Desktop/data/aquarium_data/MPR_uclust_97_closedref_10July14/otu_table_w_tax.biom -o /Users/hollybik/Desktop/data/aquarium_data/MPR_uclust_97_closedref_10July14/otu_table_w_tax_filtered_12Sept14.biom --sample_id_fp=/Users/hollybik/Desktop/data/aquarium_data/parameters_mapping_files/samples_to_keep_uniq_12Sept14.txt"
     ],
     "language": "python",
     "metadata": {},
     "outputs": []
    },
    {
     "cell_type": "code",
     "collapsed": false,
     "input": [
      "!filter_otus_from_otu_table.py -i /Users/hollybik/Desktop/data/aquarium_data/MPR_uclust_97_closedref_10July14/otu_table_w_tax_filtered_12Sept14.biom -o /Users/hollybik/Desktop/data/aquarium_data/MPR_uclust_97_closedref_10July14/otu_table_w_tax_filtered_NOsingletons_12Sept14.biom -n 2"
     ],
     "language": "python",
     "metadata": {},
     "outputs": []
    },
    {
     "cell_type": "code",
     "collapsed": false,
     "input": [
      "!biom summarize-table -i otu_table_w_tax_filtered_NOsingletons_12Sept14.biom -o filtered_NOsingletons_biom_table_summary.txt"
     ],
     "language": "python",
     "metadata": {},
     "outputs": []
    },
    {
     "cell_type": "markdown",
     "metadata": {},
     "source": [
      "**MPR_uclust_97_openref_10pctsub_20July14**"
     ]
    },
    {
     "cell_type": "code",
     "collapsed": false,
     "input": [
      "!filter_samples_from_otu_table.py -i /Users/hollybik/Desktop/data/aquarium_data/MPR_uclust_97_openref_10pctsub_20July14/otu_table_mc2_w_tax.biom -o /Users/hollybik/Desktop/data/aquarium_data/MPR_uclust_97_openref_10pctsub_20July14/otu_table_mc2_w_tax_filtered_12Sept14.biom --sample_id_fp=/Users/hollybik/Desktop/data/aquarium_data/parameters_mapping_files/samples_to_keep_uniq_12Sept14.txt"
     ],
     "language": "python",
     "metadata": {},
     "outputs": []
    },
    {
     "cell_type": "code",
     "collapsed": false,
     "input": [
      "!filter_otus_from_otu_table.py -i /Users/hollybik/Desktop/data/aquarium_data/MPR_uclust_97_openref_10pctsub_20July14/otu_table_mc2_w_tax_filtered_12Sept14.biom -o /Users/hollybik/Desktop/data/aquarium_data/MPR_uclust_97_openref_10pctsub_20July14/otu_table_mc2_w_tax_filtered_NOsingletons_12Sept14.biom -n 2"
     ],
     "language": "python",
     "metadata": {},
     "outputs": []
    },
    {
     "cell_type": "code",
     "collapsed": false,
     "input": [
      "!biom summarize-table -i otu_table_mc2_w_tax_filtered_NOsingletons_12Sept14.biom -o filtered_NOsingletons_biom_table_summary.txt"
     ],
     "language": "python",
     "metadata": {},
     "outputs": []
    },
    {
     "cell_type": "markdown",
     "metadata": {},
     "source": [
      "---\n",
      "\n",
      "###Adding Metadata for Phinch###\n",
      "\n",
      "Files labelled as *_phinch.biom are ready for uploading into visualizations"
     ]
    },
    {
     "cell_type": "code",
     "collapsed": false,
     "input": [
      "!biom add-metadata -i /Users/hollybik/Desktop/data/aquarium_data/MPF_uclust_97_closedref_10July14/otu_table_w_tax_filtered_NOsingletons_12Sept14.biom -o /Users/hollybik/Desktop/data/aquarium_data/MPF_uclust_97_closedref_10July14/otu_table_w_tax_filtered_NOsingletons_12Sept14_phinch.biom -m /Users/hollybik/Desktop/data/aquarium_data/parameters_mapping_files/AQmapfile_ALLRUNS5_minus_12Sept14.txt"
     ],
     "language": "python",
     "metadata": {},
     "outputs": []
    },
    {
     "cell_type": "code",
     "collapsed": false,
     "input": [
      "!biom add-metadata -i /Users/hollybik/Desktop/data/aquarium_data/MPR_uclust_97_closedref_10July14/otu_table_w_tax_filtered_NOsingletons_12Sept14.biom -o /Users/hollybik/Desktop/data/aquarium_data/MPR_uclust_97_closedref_10July14/otu_table_w_tax_filtered_NOsingletons_12Sept14_phinch.biom -m /Users/hollybik/Desktop/data/aquarium_data/parameters_mapping_files/AQmapfile_ALLRUNS5_minus_12Sept14.txt"
     ],
     "language": "python",
     "metadata": {},
     "outputs": []
    },
    {
     "cell_type": "code",
     "collapsed": false,
     "input": [
      "!biom add-metadata -i /Users/hollybik/Desktop/data/aquarium_data/MPF_uclust_97_openref_10pctsub_18July14/otu_table_mc2_w_tax_filtered_NOsingletons_12Sept14.biom -o /Users/hollybik/Desktop/data/aquarium_data/MPF_uclust_97_openref_10pctsub_18July14/otu_table_mc2_w_tax_filtered_NOsingletons_12Sept14_phinch.biom -m /Users/hollybik/Desktop/data/aquarium_data/parameters_mapping_files/AQmapfile_ALLRUNS5_minus_12Sept14.txt"
     ],
     "language": "python",
     "metadata": {},
     "outputs": []
    },
    {
     "cell_type": "code",
     "collapsed": false,
     "input": [
      "!biom add-metadata -i /Users/hollybik/Desktop/data/aquarium_data/MPR_uclust_97_openref_10pctsub_20July14/otu_table_mc2_w_tax_filtered_NOsingletons_12Sept14.biom -o /Users/hollybik/Desktop/data/aquarium_data/MPR_uclust_97_openref_10pctsub_20July14/otu_table_mc2_w_tax_filtered_NOsingletons_12Sept14_phinch.biom -m /Users/hollybik/Desktop/data/aquarium_data/parameters_mapping_files/AQmapfile_ALLRUNS5_minus_12Sept14.txt"
     ],
     "language": "python",
     "metadata": {},
     "outputs": []
    },
    {
     "cell_type": "markdown",
     "metadata": {},
     "source": [
      "---\n",
      "\n",
      "###Collapsing replicates in OTU tables###\n",
      "\n",
      "To make it easier to visualize data, this script creates a new OTU table where r1, r2, and r2 SampleIDs are combined into a single, combined sample ID\n",
      "\n",
      "**MPF_uclust_97_closedref_10July14**"
     ]
    },
    {
     "cell_type": "code",
     "collapsed": false,
     "input": [
      "!summarize_otu_by_cat.py -m /Users/hollybik/Desktop/data/aquarium_data/parameters_mapping_files/AQmapfile_ALLRUNS5_minus_12Sept14.txt -i /Users/hollybik/Desktop/data/aquarium_data/MPF_uclust_97_closedref_10July14/otu_table_w_tax_filtered_NOsingletons_12Sept14.biom -c collapsereps -o /Users/hollybik/Desktop/data/aquarium_data/MPF_uclust_97_closedref_10July14/otu_table_w_tax_filtered_NOsingletons_12Sept14_collapsereps.biom"
     ],
     "language": "python",
     "metadata": {},
     "outputs": []
    },
    {
     "cell_type": "code",
     "collapsed": false,
     "input": [
      "!biom summarize-table -i otu_table_w_tax_filtered_NOsingletons_12Sept14_collapsereps.biom -o collapsereps_biom_table_summary.txt"
     ],
     "language": "python",
     "metadata": {},
     "outputs": []
    },
    {
     "cell_type": "markdown",
     "metadata": {},
     "source": [
      "**MPR_uclust_97_closedref_10July14**"
     ]
    },
    {
     "cell_type": "code",
     "collapsed": false,
     "input": [
      "!summarize_otu_by_cat.py -m /Users/hollybik/Desktop/data/aquarium_data/parameters_mapping_files/AQmapfile_ALLRUNS5_minus_12Sept14.txt -i /Users/hollybik/Desktop/data/aquarium_data/MPR_uclust_97_closedref_10July14/otu_table_w_tax_filtered_NOsingletons_12Sept14.biom -c collapsereps -o /Users/hollybik/Desktop/data/aquarium_data/MPR_uclust_97_closedref_10July14/otu_table_w_tax_filtered_NOsingletons_12Sept14_collapsereps.biom"
     ],
     "language": "python",
     "metadata": {},
     "outputs": []
    },
    {
     "cell_type": "code",
     "collapsed": false,
     "input": [
      "!biom summarize-table -i otu_table_w_tax_filtered_NOsingletons_12Sept14_collapsereps.biom -o collapsereps_biom_table_summary.txt"
     ],
     "language": "python",
     "metadata": {},
     "outputs": []
    },
    {
     "cell_type": "markdown",
     "metadata": {},
     "source": [
      "**MPF_uclust_97_openref_10pctsub_18July14**"
     ]
    },
    {
     "cell_type": "code",
     "collapsed": false,
     "input": [
      "!summarize_otu_by_cat.py -m /Users/hollybik/Desktop/data/aquarium_data/parameters_mapping_files/AQmapfile_ALLRUNS5_minus_12Sept14.txt -i /Users/hollybik/Desktop/data/aquarium_data/MPF_uclust_97_openref_10pctsub_18July14/otu_table_mc2_w_tax_filtered_NOsingletons_12Sept14.biom -c collapsereps -o /Users/hollybik/Desktop/data/aquarium_data/MPF_uclust_97_openref_10pctsub_18July14/otu_table_mc2_w_tax_filtered_NOsingletons_12Sept14_collapsereps.biom"
     ],
     "language": "python",
     "metadata": {},
     "outputs": []
    },
    {
     "cell_type": "code",
     "collapsed": false,
     "input": [
      "!biom summarize-table -i otu_table_mc2_w_tax_filtered_NOsingletons_12Sept14_collapsereps.biom -o collapsereps_biom_table_summary.txt"
     ],
     "language": "python",
     "metadata": {},
     "outputs": []
    },
    {
     "cell_type": "markdown",
     "metadata": {},
     "source": [
      "**MPR_uclust_97_openref_10pctsub_20July14**"
     ]
    },
    {
     "cell_type": "code",
     "collapsed": false,
     "input": [
      "!summarize_otu_by_cat.py -m /Users/hollybik/Desktop/data/aquarium_data/parameters_mapping_files/AQmapfile_ALLRUNS5_minus_12Sept14.txt -i /Users/hollybik/Desktop/data/aquarium_data/MPR_uclust_97_openref_10pctsub_20July14/otu_table_mc2_w_tax_filtered_NOsingletons_12Sept14.biom -c collapsereps -o /Users/hollybik/Desktop/data/aquarium_data/MPR_uclust_97_openref_10pctsub_20July14/otu_table_mc2_w_tax_filtered_NOsingletons_12Sept14_collapsereps.biom"
     ],
     "language": "python",
     "metadata": {},
     "outputs": []
    },
    {
     "cell_type": "code",
     "collapsed": false,
     "input": [
      "!biom summarize-table -i otu_table_mc2_w_tax_filtered_NOsingletons_12Sept14_collapsereps.biom -o collapsereps_biom_table_summary.txt"
     ],
     "language": "python",
     "metadata": {},
     "outputs": []
    },
    {
     "cell_type": "markdown",
     "metadata": {},
     "source": [
      "---"
     ]
    },
    {
     "cell_type": "heading",
     "level": 3,
     "metadata": {},
     "source": [
      "**Redo filtering/collapse rep analysis with what is hopefully the FINAL FINAL DATASET**"
     ]
    },
    {
     "cell_type": "markdown",
     "metadata": {},
     "source": [
      "###Filtering OTU Tables###\n",
      "\n",
      "Filtering tables based on the \"final\" sample mapping file - this contains ONLY CoralPond1, CoralPond2, Tropical, Fiji Rock, and Intake samples\n",
      "\n",
      "**MPF_uclust_97_closedref_10July14**"
     ]
    },
    {
     "cell_type": "code",
     "collapsed": false,
     "input": [
      "!filter_samples_from_otu_table.py -i /Users/hollybik/Desktop/data/aquarium_data/MPF_uclust_97_closedref_10July14/otu_table_w_tax.biom -o /Users/hollybik/Documents/GitHub/aquarium_project/final_dataset/MPF_uclust_97_closedref_10July14/otu_table_w_tax_filtered_1Oct14.biom --sample_id_fp=/Users/hollybik/Documents/GitHub/aquarium_project/final_dataset/mapping_files/samples_to_keep_uniq_1Oct14.txt"
     ],
     "language": "python",
     "metadata": {},
     "outputs": []
    },
    {
     "cell_type": "code",
     "collapsed": false,
     "input": [
      "!filter_otus_from_otu_table.py -i /Users/hollybik/Documents/GitHub/aquarium_project/final_dataset/MPF_uclust_97_closedref_10July14/otu_table_w_tax_filtered_1Oct14.biom -o /Users/hollybik/Documents/GitHub/aquarium_project/final_dataset/MPF_uclust_97_closedref_10July14/otu_table_w_tax_filtered_NOsingletons_1Oct14.biom -n 2"
     ],
     "language": "python",
     "metadata": {},
     "outputs": []
    },
    {
     "cell_type": "code",
     "collapsed": false,
     "input": [
      "!biom summarize-table -i otu_table_w_tax_filtered_NOsingletons_1Oct14.biom -o filtered_NOsingletons_biom_table_summary.txt"
     ],
     "language": "python",
     "metadata": {},
     "outputs": []
    },
    {
     "cell_type": "markdown",
     "metadata": {},
     "source": [
      "**MPR_uclust_97_closedref_10July14**"
     ]
    },
    {
     "cell_type": "code",
     "collapsed": false,
     "input": [
      "!filter_samples_from_otu_table.py -i /Users/hollybik/Desktop/data/aquarium_data/MPR_uclust_97_closedref_10July14/otu_table_w_tax.biom -o /Users/hollybik/Documents/GitHub/aquarium_project/final_dataset/MPR_uclust_97_closedref_10July14/otu_table_w_tax_filtered_1Oct14.biom --sample_id_fp=/Users/hollybik/Documents/GitHub/aquarium_project/final_dataset/mapping_files/samples_to_keep_uniq_1Oct14.txt"
     ],
     "language": "python",
     "metadata": {},
     "outputs": []
    },
    {
     "cell_type": "code",
     "collapsed": false,
     "input": [
      "!filter_otus_from_otu_table.py -i /Users/hollybik/Documents/GitHub/aquarium_project/final_dataset/MPR_uclust_97_closedref_10July14/otu_table_w_tax_filtered_1Oct14.biom -o /Users/hollybik/Documents/GitHub/aquarium_project/final_dataset/MPR_uclust_97_closedref_10July14/otu_table_w_tax_filtered_NOsingletons_1Oct14.biom -n 2"
     ],
     "language": "python",
     "metadata": {},
     "outputs": []
    },
    {
     "cell_type": "code",
     "collapsed": false,
     "input": [
      "!biom summarize-table -i otu_table_w_tax_filtered_NOsingletons_1Oct14.biom -o filtered_NOsingletons_biom_table_summary.txt"
     ],
     "language": "python",
     "metadata": {},
     "outputs": []
    },
    {
     "cell_type": "markdown",
     "metadata": {},
     "source": [
      "**MPF_uclust_97_openref_10pctsub_18July14**"
     ]
    },
    {
     "cell_type": "code",
     "collapsed": false,
     "input": [
      "!filter_samples_from_otu_table.py -i /Users/hollybik/Desktop/data/aquarium_data/MPF_uclust_97_openref_10pctsub_18July14/otu_table_mc2_w_tax.biom -o /Users/hollybik/Documents/GitHub/aquarium_project/final_dataset/MPF_uclust_97_openref_10pctsub_18July14/otu_table_mc2_w_tax_filtered_1Oct14.biom --sample_id_fp=/Users/hollybik/Documents/GitHub/aquarium_project/final_dataset/mapping_files/samples_to_keep_uniq_1Oct14.txt"
     ],
     "language": "python",
     "metadata": {},
     "outputs": []
    },
    {
     "cell_type": "code",
     "collapsed": false,
     "input": [
      "!filter_otus_from_otu_table.py -i /Users/hollybik/Documents/GitHub/aquarium_project/final_dataset/MPF_uclust_97_openref_10pctsub_18July14/otu_table_mc2_w_tax_filtered_1Oct14.biom -o /Users/hollybik/Documents/GitHub/aquarium_project/final_dataset/MPF_uclust_97_openref_10pctsub_18July14/otu_table_mc2_w_tax_filtered_NOsingletons_1Oct14.biom -n 2"
     ],
     "language": "python",
     "metadata": {},
     "outputs": []
    },
    {
     "cell_type": "code",
     "collapsed": false,
     "input": [
      "!biom summarize-table -i otu_table_mc2_w_tax_filtered_NOsingletons_1Oct14.biom -o filtered_NOsingletons_biom_table_summary.txt"
     ],
     "language": "python",
     "metadata": {},
     "outputs": []
    },
    {
     "cell_type": "markdown",
     "metadata": {},
     "source": [
      "**MPR_uclust_97_openref_10pctsub_20July14**"
     ]
    },
    {
     "cell_type": "code",
     "collapsed": false,
     "input": [
      "!filter_samples_from_otu_table.py -i /Users/hollybik/Desktop/data/aquarium_data/MPR_uclust_97_openref_10pctsub_20July14/otu_table_mc2_w_tax.biom -o /Users/hollybik/Documents/GitHub/aquarium_project/final_dataset/MPR_uclust_97_openref_10pctsub_20July14/otu_table_mc2_w_tax_filtered_1Oct14.biom --sample_id_fp=/Users/hollybik/Documents/GitHub/aquarium_project/final_dataset/mapping_files/samples_to_keep_uniq_1Oct14.txt"
     ],
     "language": "python",
     "metadata": {},
     "outputs": []
    },
    {
     "cell_type": "code",
     "collapsed": false,
     "input": [
      "!filter_otus_from_otu_table.py -i /Users/hollybik/Documents/GitHub/aquarium_project/final_dataset/MPR_uclust_97_openref_10pctsub_20July14/otu_table_mc2_w_tax_filtered_1Oct14.biom -o /Users/hollybik/Documents/GitHub/aquarium_project/final_dataset/MPR_uclust_97_openref_10pctsub_20July14/otu_table_mc2_w_tax_filtered_NOsingletons_1Oct14.biom -n 2"
     ],
     "language": "python",
     "metadata": {},
     "outputs": []
    },
    {
     "cell_type": "code",
     "collapsed": false,
     "input": [
      "!biom summarize-table -i otu_table_mc2_w_tax_filtered_NOsingletons_1Oct14.biom -o filtered_NOsingletons_biom_table_summary.txt"
     ],
     "language": "python",
     "metadata": {},
     "outputs": []
    },
    {
     "cell_type": "markdown",
     "metadata": {},
     "source": [
      "###Adding Metadata for Phinch###\n",
      "\n",
      "Files labelled as *_phinch.biom are ready for uploading into visualizations"
     ]
    },
    {
     "cell_type": "code",
     "collapsed": false,
     "input": [
      "!biom add-metadata -i /Users/hollybik/Documents/GitHub/aquarium_project/final_dataset/MPF_uclust_97_closedref_10July14/otu_table_w_tax_filtered_NOsingletons_1Oct14.biom -o /Users/hollybik/Documents/GitHub/aquarium_project/final_dataset/MPF_uclust_97_closedref_10July14/otu_table_w_tax_filtered_NOsingletons_1Oct14_phinch.biom -m /Users/hollybik/Documents/GitHub/aquarium_project/final_dataset/mapping_files/AQmapfile_ALLRUNS5_final_1Oct14.txt"
     ],
     "language": "python",
     "metadata": {},
     "outputs": []
    },
    {
     "cell_type": "code",
     "collapsed": false,
     "input": [
      "!biom add-metadata -i /Users/hollybik/Documents/GitHub/aquarium_project/final_dataset/MPR_uclust_97_closedref_10July14/otu_table_w_tax_filtered_NOsingletons_1Oct14.biom -o /Users/hollybik/Documents/GitHub/aquarium_project/final_dataset/MPR_uclust_97_closedref_10July14/otu_table_w_tax_filtered_NOsingletons_1Oct14_phinch.biom -m /Users/hollybik/Documents/GitHub/aquarium_project/final_dataset/mapping_files/AQmapfile_ALLRUNS5_final_1Oct14.txt"
     ],
     "language": "python",
     "metadata": {},
     "outputs": []
    },
    {
     "cell_type": "code",
     "collapsed": false,
     "input": [
      "!biom add-metadata -i /Users/hollybik/Documents/GitHub/aquarium_project/final_dataset/MPF_uclust_97_openref_10pctsub_18July14/otu_table_mc2_w_tax_filtered_NOsingletons_1Oct14.biom -o /Users/hollybik/Documents/GitHub/aquarium_project/final_dataset/MPF_uclust_97_openref_10pctsub_18July14/otu_table_mc2_w_tax_filtered_NOsingletons_1Oct14_phinch.biom -m /Users/hollybik/Documents/GitHub/aquarium_project/final_dataset/mapping_files/AQmapfile_ALLRUNS5_final_1Oct14.txt"
     ],
     "language": "python",
     "metadata": {},
     "outputs": []
    },
    {
     "cell_type": "code",
     "collapsed": false,
     "input": [
      "!biom add-metadata -i /Users/hollybik/Documents/GitHub/aquarium_project/final_dataset/MPR_uclust_97_openref_10pctsub_20July14/otu_table_mc2_w_tax_filtered_NOsingletons_1Oct14.biom -o /Users/hollybik/Documents/GitHub/aquarium_project/final_dataset/MPR_uclust_97_openref_10pctsub_20July14/otu_table_mc2_w_tax_filtered_NOsingletons_1Oct14_phinch.biom -m /Users/hollybik/Documents/GitHub/aquarium_project/final_dataset/mapping_files/AQmapfile_ALLRUNS5_final_1Oct14.txt"
     ],
     "language": "python",
     "metadata": {},
     "outputs": []
    },
    {
     "cell_type": "markdown",
     "metadata": {},
     "source": [
      "###Collapsing replicates in OTU tables###\n",
      "\n",
      "To make it easier to visualize data, this script creates a new OTU table where r1, r2, and r2 SampleIDs are combined into a single, combined sample ID\n",
      "\n",
      "**MPF_uclust_97_closedref_10July14**"
     ]
    },
    {
     "cell_type": "code",
     "collapsed": false,
     "input": [
      "!summarize_otu_by_cat.py -m /Users/hollybik/Documents/GitHub/aquarium_project/final_dataset/mapping_files/AQmapfile_ALLRUNS5_final_1Oct14.txt -i /Users/hollybik/Documents/GitHub/aquarium_project/final_dataset/MPF_uclust_97_closedref_10July14/otu_table_w_tax_filtered_NOsingletons_1Oct14.biom -c collapsereps -o /Users/hollybik/Documents/GitHub/aquarium_project/final_dataset/MPF_uclust_97_closedref_10July14/otu_table_w_tax_filtered_NOsingletons_1Oct14_collapsereps.biom"
     ],
     "language": "python",
     "metadata": {},
     "outputs": []
    },
    {
     "cell_type": "code",
     "collapsed": false,
     "input": [
      "!biom summarize-table -i otu_table_w_tax_filtered_NOsingletons_1Oct14_collapsereps.biom -o collapsereps_biom_table_summary.txt"
     ],
     "language": "python",
     "metadata": {},
     "outputs": []
    },
    {
     "cell_type": "markdown",
     "metadata": {},
     "source": [
      "**MPR_uclust_97_closedref_10July14**"
     ]
    },
    {
     "cell_type": "code",
     "collapsed": false,
     "input": [
      "!summarize_otu_by_cat.py -m /Users/hollybik/Documents/GitHub/aquarium_project/final_dataset/mapping_files/AQmapfile_ALLRUNS5_final_1Oct14.txt -i /Users/hollybik/Documents/GitHub/aquarium_project/final_dataset/MPR_uclust_97_closedref_10July14/otu_table_w_tax_filtered_NOsingletons_1Oct14.biom -c collapsereps -o /Users/hollybik/Documents/GitHub/aquarium_project/final_dataset/MPR_uclust_97_closedref_10July14/otu_table_w_tax_filtered_NOsingletons_1Oct14_collapsereps.biom"
     ],
     "language": "python",
     "metadata": {},
     "outputs": []
    },
    {
     "cell_type": "code",
     "collapsed": false,
     "input": [
      "!biom summarize-table -i otu_table_w_tax_filtered_NOsingletons_1Oct14_collapsereps.biom -o collapsereps_biom_table_summary.txt"
     ],
     "language": "python",
     "metadata": {},
     "outputs": []
    },
    {
     "cell_type": "markdown",
     "metadata": {},
     "source": [
      "**MPF_uclust_97_openref_10pctsub_18July14**"
     ]
    },
    {
     "cell_type": "code",
     "collapsed": false,
     "input": [
      "!summarize_otu_by_cat.py -m /Users/hollybik/Documents/GitHub/aquarium_project/final_dataset/mapping_files/AQmapfile_ALLRUNS5_final_1Oct14.txt -i /Users/hollybik/Documents/GitHub/aquarium_project/final_dataset/MPF_uclust_97_openref_10pctsub_18July14/otu_table_mc2_w_tax_filtered_NOsingletons_1Oct14.biom -c collapsereps -o /Users/hollybik/Documents/GitHub/aquarium_project/final_dataset/MPF_uclust_97_openref_10pctsub_18July14/otu_table_mc2_w_tax_filtered_NOsingletons_1Oct14_collapsereps.biom"
     ],
     "language": "python",
     "metadata": {},
     "outputs": []
    },
    {
     "cell_type": "code",
     "collapsed": false,
     "input": [
      "!biom summarize-table -i otu_table_mc2_w_tax_filtered_NOsingletons_1Oct14_collapsereps.biom -o collapsereps_biom_table_summary.txt"
     ],
     "language": "python",
     "metadata": {},
     "outputs": []
    },
    {
     "cell_type": "markdown",
     "metadata": {},
     "source": [
      "**MPR_uclust_97_openref_10pctsub_20July14**"
     ]
    },
    {
     "cell_type": "code",
     "collapsed": false,
     "input": [
      "!summarize_otu_by_cat.py -m /Users/hollybik/Documents/GitHub/aquarium_project/final_dataset/mapping_files/AQmapfile_ALLRUNS5_final_1Oct14.txt -i /Users/hollybik/Documents/GitHub/aquarium_project/final_dataset/MPR_uclust_97_openref_10pctsub_20July14/otu_table_mc2_w_tax_filtered_NOsingletons_1Oct14.biom -c collapsereps -o /Users/hollybik/Documents/GitHub/aquarium_project/final_dataset/MPR_uclust_97_openref_10pctsub_20July14/otu_table_mc2_w_tax_filtered_NOsingletons_1Oct14_collapsereps.biom"
     ],
     "language": "python",
     "metadata": {},
     "outputs": []
    },
    {
     "cell_type": "code",
     "collapsed": false,
     "input": [
      "!biom summarize-table -i otu_table_mc2_w_tax_filtered_NOsingletons_1Oct14_collapsereps.biom -o collapsereps_biom_table_summary.txt"
     ],
     "language": "python",
     "metadata": {},
     "outputs": []
    },
    {
     "cell_type": "markdown",
     "metadata": {},
     "source": [
      "## Merged-only Open-Ref OTU Picking ##\n",
      "\n",
      "Redoing the open-ref picking because we're worried about the shorter F/R reads messing up the uclust OTU definitions. New file is on Merlot: /share/eisen-z2/gjospin/misc/AQUEXP/AQUEXP_all_M_20140908_4.fasta.gz\n",
      "\n",
      "Command I'm running on Amazon AWS (same parameter files and everything as before):"
     ]
    },
    {
     "cell_type": "code",
     "collapsed": false,
     "input": [
      "!pick_open_reference_otus.py -i /home/ubuntu/data/AQUEXP_all_M_20140908_4.fasta -r /home/ubuntu/qiime_software/gg_otus-13_8-release/rep_set/97_otus.fasta -o /home/ubuntu/data/MergedOnly_uclust_97_openref_10pctsub_14Dec14 -p /home/ubuntu/data/qiime_parameters_16S_openref_indoorevol_18July14.txt --parallel -O 7 -s 0.10"
     ],
     "language": "python",
     "metadata": {},
     "outputs": []
    },
    {
     "cell_type": "code",
     "collapsed": false,
     "input": [
      "!parallel_align_seqs_pynast.py -i /Users/hollybik/Desktop/data/aquarium_data/MergedOnly_uclust_97_openref_10pctsub_14Dec14/rep_set.fna -o /Users/hollybik/Desktop/data/aquarium_data/MergedOnly_uclust_97_openref_10pctsub_14Dec14/pynast_aligned_seqs --template_fp /macqiime/gg_13_8_otus/rep_set_aligned/97_otus.fasta -O 2"
     ],
     "language": "python",
     "metadata": {},
     "outputs": []
    },
    {
     "cell_type": "code",
     "collapsed": false,
     "input": [
      "!filter_alignment.py -o /Users/hollybik/Desktop/data/aquarium_data/MergedOnly_uclust_97_openref_10pctsub_14Dec14/pynast_aligned_seqs/ -i /Users/hollybik/Desktop/data/aquarium_data/MergedOnly_uclust_97_openref_10pctsub_14Dec14/pynast_aligned_seqs/rep_set_aligned.fasta --allowed_gap_frac 0.999999 --threshold 3.0 --suppress_lane_mask_filter"
     ],
     "language": "python",
     "metadata": {},
     "outputs": []
    },
    {
     "cell_type": "code",
     "collapsed": false,
     "input": [
      "!make_phylogeny.py -i /Users/hollybik/Desktop/data/aquarium_data/MergedOnly_uclust_97_openref_10pctsub_14Dec14/pynast_aligned_seqs/rep_set_aligned_pfiltered.fasta -o /Users/hollybik/Desktop/data/aquarium_data/MergedOnly_uclust_97_openref_10pctsub_14Dec14/pynast_aligned_seqs/rep_set.tre --root_method tree_method_default --tree_method fasttree"
     ],
     "language": "python",
     "metadata": {},
     "outputs": []
    },
    {
     "cell_type": "markdown",
     "metadata": {},
     "source": [
      "###MergedOnly_uclust_97_openref_10pctsub_14Dec14###\n",
      "\n",
      "**Filtring OTU tables**\n",
      "\n",
      "Filtering tables based on the \"final\" sample mapping file - this contains ONLY CoralPond1, CoralPond2, Tropical, Fiji Rock, and Intake samples"
     ]
    },
    {
     "cell_type": "code",
     "collapsed": false,
     "input": [
      "!filter_samples_from_otu_table.py -i /Users/hollybik/Desktop/data/aquarium_data/MergedOnly_uclust_97_openref_10pctsub_14Dec14/otu_table_mc2_w_tax.biom -o /Users/hollybik/Documents/GitHub/aquarium_project/final_dataset/MergedOnly_uclust_97_openref_10pctsub_14Dec14/otu_table_mc2_w_tax_filtered_30Dec14.biom --sample_id_fp=/Users/hollybik/Documents/GitHub/aquarium_project/final_dataset/mapping_files/samples_to_keep_uniq_1Oct14.txt"
     ],
     "language": "python",
     "metadata": {},
     "outputs": []
    },
    {
     "cell_type": "code",
     "collapsed": false,
     "input": [
      "!filter_otus_from_otu_table.py -i /Users/hollybik/Documents/GitHub/aquarium_project/final_dataset/MergedOnly_uclust_97_openref_10pctsub_14Dec14/otu_table_mc2_w_tax_filtered_30Dec14.biom -o /Users/hollybik/Documents/GitHub/aquarium_project/final_dataset/MergedOnly_uclust_97_openref_10pctsub_14Dec14/otu_table_mc2_w_tax_filtered_NOsingletons_30Dec14.biom -n 2"
     ],
     "language": "python",
     "metadata": {},
     "outputs": []
    },
    {
     "cell_type": "markdown",
     "metadata": {},
     "source": [
      "###Adding Metadata for Phinch###\n",
      "\n",
      "Files labelled as *_phinch.biom are ready for uploading into visualizations"
     ]
    },
    {
     "cell_type": "code",
     "collapsed": false,
     "input": [
      "!biom add-metadata -i /Users/hollybik/Documents/GitHub/aquarium_project/final_dataset/MergedOnly_uclust_97_openref_10pctsub_14Dec14/otu_table_mc2_w_tax_filtered_NOsingletons_30Dec14.biom -o /Users/hollybik/Documents/GitHub/aquarium_project/final_dataset/MergedOnly_uclust_97_openref_10pctsub_14Dec14/otu_table_mc2_w_tax_filtered_NOsingletons_30Dec14_phinch.biom -m /Users/hollybik/Documents/GitHub/aquarium_project/final_dataset/mapping_files/AQmapfile_ALLRUNS5_final_1Oct14.txt"
     ],
     "language": "python",
     "metadata": {},
     "outputs": []
    },
    {
     "cell_type": "markdown",
     "metadata": {},
     "source": [
      "###Collapsing replicates in OTU tables###\n",
      "\n",
      "To make it easier to visualize data, this script creates a new OTU table where r1, r2, and r2 SampleIDs are combined into a single, combined sample ID\n",
      "\n",
      "After that, regenerate .biom file for Phinch visualizations"
     ]
    },
    {
     "cell_type": "code",
     "collapsed": false,
     "input": [
      "!summarize_otu_by_cat.py -m /Users/hollybik/Documents/GitHub/aquarium_project/final_dataset/mapping_files/AQmapfile_ALLRUNS5_final_1Oct14.txt -i /Users/hollybik/Documents/GitHub/aquarium_project/final_dataset/MergedOnly_uclust_97_openref_10pctsub_14Dec14/otu_table_mc2_w_tax_filtered_NOsingletons_30Dec14.biom -c collapsereps -o /Users/hollybik/Documents/GitHub/aquarium_project/final_dataset/MergedOnly_uclust_97_openref_10pctsub_14Dec14/otu_table_mc2_w_tax_filtered_NOsingletons_30Dec14_collapsereps.biom"
     ],
     "language": "python",
     "metadata": {},
     "outputs": []
    },
    {
     "cell_type": "code",
     "collapsed": false,
     "input": [
      "!biom add-metadata -i /Users/hollybik/Documents/GitHub/aquarium_project/final_dataset/MergedOnly_uclust_97_openref_10pctsub_14Dec14/otu_table_mc2_w_tax_filtered_NOsingletons_30Dec14_collapsereps.biom -o /Users/hollybik/Documents/GitHub/aquarium_project/final_dataset/MergedOnly_uclust_97_openref_10pctsub_14Dec14/otu_table_mc2_w_tax_filtered_NOsingletons_30Dec14_collapsereps_phinch.biom -m /Users/hollybik/Documents/GitHub/aquarium_project/final_dataset/mapping_files/AQmapfile_ALLRUNS5_final_1Oct14_collapsereps.txt"
     ],
     "language": "python",
     "metadata": {},
     "outputs": []
    },
    {
     "cell_type": "code",
     "collapsed": false,
     "input": [
      "!biom summarize-table -i otu_table_mc2_w_tax_filtered_NOsingletons_30Dec14_collapsereps.biom -o collapsereps_biom_table_summary.txt"
     ],
     "language": "python",
     "metadata": {},
     "outputs": []
    },
    {
     "cell_type": "markdown",
     "metadata": {},
     "source": [
      "###Feb 13 2015 - Cleaning up Open Ref Merged Only dataset\n",
      "\n",
      "Removing pynast failures from BIOM table:"
     ]
    },
    {
     "cell_type": "code",
     "collapsed": false,
     "input": [
      "!filter_otus_from_otu_table.py -i /Users/hollybik/Desktop/data/aquarium_data/MergedOnly_uclust_97_openref_10pctsub_14Dec14/otu_table_mc2_w_tax.biom -o /Users/hollybik/Desktop/data/aquarium_data/MergedOnly_uclust_97_openref_10pctsub_14Dec14/otu_table_mc2_w_tax_no_pynast_failures.biom -e /Users/hollybik/Desktop/data/aquarium_data/MergedOnly_uclust_97_openref_10pctsub_14Dec14/pynast_aligned_seqs/rep_set_failures.fasta "
     ],
     "language": "python",
     "metadata": {},
     "outputs": []
    },
    {
     "cell_type": "markdown",
     "metadata": {},
     "source": [
      "Running Chimera checking (note - Chimera slayer wasn't working on my computer so I had to switch over to Amazon Cloud), and then removing chimeric seqeunces.\n",
      "\n",
      "Error on my Mac:\n",
      "```\n",
      "raise ApplicationError,\"Calling ChimeraSlayer failed.\"\n",
      "cogent.app.util.ApplicationError: Calling ChimeraSlayer failed.\n",
      "```\n",
      "Ended up running the parallel Chimera check script on Amazon Cloud (8 jobs), since that is probably way faster:"
     ]
    },
    {
     "cell_type": "code",
     "collapsed": false,
     "input": [
      "!parallel_identify_chimeric_seqs.py -i /home/ubuntu/chimera_check/rep_set_aligned.fasta -m ChimeraSlayer -a /home/ubuntu/chimera_check/97_otus.fasta -o /home/ubuntu/chimera_check/chimeric_seqs.txt -O 8"
     ],
     "language": "python",
     "metadata": {},
     "outputs": [],
     "prompt_number": 0
    },
    {
     "cell_type": "code",
     "collapsed": false,
     "input": [
      "!filter_otus_from_otu_table.py -i otu_table_mc2_w_tax_no_pynast_failures.biom -o otu_table_mc2_w_tax_no_pynast_failures_no_chimeras.biom -e chimeric_seqs.txt"
     ],
     "language": "python",
     "metadata": {},
     "outputs": [],
     "prompt_number": 0
    },
    {
     "cell_type": "markdown",
     "metadata": {},
     "source": [
      "Removing chloroplast/mitochondria/unassigned sequences from BIOM table (did this for both open and closef ref datasets):"
     ]
    },
    {
     "cell_type": "code",
     "collapsed": false,
     "input": [
      "!filter_taxa_from_otu_table.py -i otu_table_mc2_w_tax_no_pynast_failures_no_chimeras.biom -o otu_table_mc2_w_tax_no_pynast_failures_no_chimeras_NOchloroplasts.biom -n c__Chloroplast,f__mitochondria,Unassigned "
     ],
     "language": "python",
     "metadata": {},
     "outputs": []
    },
    {
     "cell_type": "markdown",
     "metadata": {},
     "source": [
      "Next, discard samples (Koi pond, etc.) and then collapse reps (because I'm going back to the original BIOM table):"
     ]
    },
    {
     "cell_type": "code",
     "collapsed": false,
     "input": [
      "!filter_samples_from_otu_table.py -i otu_table_mc2_w_tax_no_pynast_failures_no_chimeras_NOchloroplasts.biom -o otu_table_mc2_w_tax_no_pynast_failures_no_chimeras_NOchloroplasts_filtered_24Feb15.biom --sample_id_fp=/Users/hollybik/Documents/GitHub/aquarium_project/final_dataset/mapping_files/samples_to_keep_uniq_1Oct14.txt"
     ],
     "language": "python",
     "metadata": {},
     "outputs": []
    },
    {
     "cell_type": "code",
     "collapsed": false,
     "input": [
      "!summarize_otu_by_cat.py -i otu_table_mc2_w_tax_no_pynast_failures_no_chimeras_NOchloroplasts_filtered_24Feb15.biom -o otu_table_mc2_w_tax_no_pynast_failures_no_chimeras_NOchloroplasts_filtered_collapsereps_24Feb15.biom -m /Users/hollybik/Documents/GitHub/aquarium_project/final_dataset/mapping_files/AQmapfile_ALLRUNS5_final_1Oct14.txt -c collapsereps"
     ],
     "language": "python",
     "metadata": {},
     "outputs": []
    },
    {
     "cell_type": "markdown",
     "metadata": {},
     "source": [
      "For some reason, summarizing the OTU table by category added the metadata to the end. Which is not what I want, because it's using the sample IDs with the .r1 extension, etc. So I'm converting BIOM to classic OTU table, then back to BIOM with the new metadata:"
     ]
    },
    {
     "cell_type": "code",
     "collapsed": false,
     "input": [
      "!biom convert -i otu_table_mc2_w_tax_no_pynast_failures_no_chimeras_NOchloroplasts_filtered_collapsereps_24Feb15.biom -o otu_table_mc2_w_tax_no_pynast_failures_no_chimeras_NOchloroplasts_filtered_collapsereps_24Feb15_classic.txt -b --header-key=taxonomy"
     ],
     "language": "python",
     "metadata": {},
     "outputs": []
    },
    {
     "cell_type": "code",
     "collapsed": false,
     "input": [
      "!biom convert -i otu_table_mc2_w_tax_no_pynast_failures_no_chimeras_NOchloroplasts_filtered_collapsereps_24Feb15_classic.txt -o otu_table_mc2_w_tax_no_pynast_failures_no_chimeras_NOchloroplasts_filtered_collapsereps_24Feb15_replacedmetadata.biom -m /Users/hollybik/Documents/GitHub/aquarium_project/final_dataset/mapping_files/AQmapfile_ALLRUNS5_final_1Oct14_collapsereps.txt --table-type=\"otu table\" --process-obs-metadata=taxonomy"
     ],
     "language": "python",
     "metadata": {},
     "outputs": []
    },
    {
     "cell_type": "markdown",
     "metadata": {},
     "source": [
      "Ooops, I forgot to remove singletons (redoing below analyses with singletons removed)"
     ]
    },
    {
     "cell_type": "code",
     "collapsed": false,
     "input": [
      "!filter_otus_from_otu_table.py -i /Users/hollybik/Desktop/data/aquarium_data/MergedOnly_uclust_97_openref_10pctsub_14Dec14/chimera_chloroplasts_filtered/otu_table_mc2_w_tax_no_pynast_failures_no_chimeras_NOchloroplasts_filtered_collapsereps_24Feb15_replacedmetadata.biom -o /Users/hollybik/Desktop/data/aquarium_data/MergedOnly_uclust_97_openref_10pctsub_14Dec14/chimera_chloroplasts_filtered/otu_table_mc2_w_tax_no_pynast_failures_no_chimeras_NOchloroplasts_filtered_collapsereps_24Feb15_replacedmetadata_NOsingletons.biom -n 2"
     ],
     "language": "python",
     "metadata": {},
     "outputs": []
    },
    {
     "cell_type": "markdown",
     "metadata": {},
     "source": [
      "Next, I'm splitting the BIOM files into Coral Pond 1 and Coral Pond 2 (and then sediment/water for each CP as well):"
     ]
    },
    {
     "cell_type": "code",
     "collapsed": false,
     "input": [
      "!filter_samples_from_otu_table.py -i otu_table_mc2_w_tax_no_pynast_failures_no_chimeras_NOchloroplasts_filtered_collapsereps_24Feb15_replacedmetadata_NOsingletons.biom -m /Users/hollybik/Desktop/data/aquarium_data/mapping_files/final_dataset/AQmapfile_ALLRUNS5_final_1Oct14_collapsereps.txt -o coralpond1/coralpond1_all.biom -s 'Location:CoralPond1'"
     ],
     "language": "python",
     "metadata": {},
     "outputs": []
    },
    {
     "cell_type": "code",
     "collapsed": false,
     "input": [
      "!filter_samples_from_otu_table.py -i otu_table_mc2_w_tax_no_pynast_failures_no_chimeras_NOchloroplasts_filtered_collapsereps_24Feb15_replacedmetadata_NOsingletons.biom -m /Users/hollybik/Desktop/data/aquarium_data/mapping_files/final_dataset/AQmapfile_ALLRUNS5_final_1Oct14_collapsereps.txt -o coralpond2/coralpond2_all.biom -s 'Location:CoralPond2'"
     ],
     "language": "python",
     "metadata": {},
     "outputs": []
    },
    {
     "cell_type": "code",
     "collapsed": false,
     "input": [
      "!filter_samples_from_otu_table.py -i coralpond2/coralpond2_all.biom -o coralpond2/coralpond2_sed.biom -m /Users/hollybik/Desktop/data/aquarium_data/mapping_files/final_dataset/AQmapfile_ALLRUNS5_final_1Oct14_collapsereps.txt -s 'SampleType:Sand,Sediment'"
     ],
     "language": "python",
     "metadata": {},
     "outputs": []
    },
    {
     "cell_type": "code",
     "collapsed": false,
     "input": [
      "!filter_samples_from_otu_table.py -i coralpond1/coralpond1_all.biom -o coralpond1/coralpond1_sed.biom -m /Users/hollybik/Desktop/data/aquarium_data/mapping_files/final_dataset/AQmapfile_ALLRUNS5_final_1Oct14_collapsereps.txt -s 'SampleType:Sand,Sediment'"
     ],
     "language": "python",
     "metadata": {},
     "outputs": []
    },
    {
     "cell_type": "code",
     "collapsed": false,
     "input": [
      "!filter_samples_from_otu_table.py -i coralpond1/coralpond1_all.biom -o coralpond1/coralpond1_water.biom -m /Users/hollybik/Desktop/data/aquarium_data/mapping_files/final_dataset/AQmapfile_ALLRUNS5_final_1Oct14_collapsereps.txt -s 'SampleType:Water,Intake'"
     ],
     "language": "python",
     "metadata": {},
     "outputs": []
    },
    {
     "cell_type": "code",
     "collapsed": false,
     "input": [
      "!filter_samples_from_otu_table.py -i coralpond2/coralpond2_all.biom -o coralpond2/coralpond2_water.biom -m /Users/hollybik/Desktop/data/aquarium_data/mapping_files/final_dataset/AQmapfile_ALLRUNS5_final_1Oct14_collapsereps.txt -s 'SampleType:Water,Intake'"
     ],
     "language": "python",
     "metadata": {},
     "outputs": []
    },
    {
     "cell_type": "markdown",
     "metadata": {},
     "source": [
      "Summarize BIOM table for replaced metadata master BIOM file:"
     ]
    },
    {
     "cell_type": "code",
     "collapsed": false,
     "input": [
      "biom summarize-table -i /Users/hollybik/Desktop/data/aquarium_data/MergedOnly_uclust_97_openref_10pctsub_14Dec14/otu_table_mc2_w_tax_no_pynast_failures_no_chimeras_NOchloroplasts_filtered_collapsereps_24Feb15_replacedmetadata.biom -o biom_summary_replacedmetadata_24Feb15.txt"
     ],
     "language": "python",
     "metadata": {},
     "outputs": []
    },
    {
     "cell_type": "markdown",
     "metadata": {},
     "source": [
      "3/23/15 - adding intake to CP1 dataset (re-filtering BIOM tables)"
     ]
    },
    {
     "cell_type": "code",
     "collapsed": false,
     "input": [
      "!filter_samples_from_otu_table.py -i otu_table_mc2_w_tax_no_pynast_failures_no_chimeras_NOchloroplasts_filtered_collapsereps_24Feb15_replacedmetadata_NOsingletons.biom -m /Users/hollybik/Desktop/data/aquarium_data/mapping_files/final_dataset/AQmapfile_ALLRUNS5_final_1Oct14_collapsereps.txt -o coralpond1/coralpond1_all_wIntake.biom -s 'Location:CoralPond1,Intake'"
     ],
     "language": "python",
     "metadata": {},
     "outputs": []
    },
    {
     "cell_type": "code",
     "collapsed": false,
     "input": [
      "!filter_samples_from_otu_table.py -i coralpond1/coralpond1_all_wIntake.biom -o coralpond1/coralpond1_water_wIntake.biom -m /Users/hollybik/Desktop/data/aquarium_data/mapping_files/final_dataset/AQmapfile_ALLRUNS5_final_1Oct14_collapsereps.txt -s 'SampleType:Water'"
     ],
     "language": "python",
     "metadata": {},
     "outputs": []
    },
    {
     "cell_type": "markdown",
     "metadata": {},
     "source": [
      "5/1/15 - adding intake, FijiRocks, and Tropical to CP1 and CP2 datasets (after Skype call discussion)"
     ]
    },
    {
     "cell_type": "code",
     "collapsed": false,
     "input": [
      "!filter_samples_from_otu_table.py -i otu_table_mc2_w_tax_no_pynast_failures_no_chimeras_NOchloroplasts_filtered_collapsereps_24Feb15_replacedmetadata_NOsingletons.biom -m /Users/hollybik/Desktop/data/aquarium_data/mapping_files/final_dataset/AQmapfile_ALLRUNS5_final_1Oct14_collapsereps.txt -o coralpond1/coralpond1_all_wIntPert.biom -s 'Location:CoralPond1,Intake,FijiRock,Tropical'"
     ],
     "language": "python",
     "metadata": {},
     "outputs": []
    },
    {
     "cell_type": "code",
     "collapsed": false,
     "input": [
      "!filter_samples_from_otu_table.py -i otu_table_mc2_w_tax_no_pynast_failures_no_chimeras_NOchloroplasts_filtered_collapsereps_24Feb15_replacedmetadata_NOsingletons.biom -m /Users/hollybik/Desktop/data/aquarium_data/mapping_files/final_dataset/AQmapfile_ALLRUNS5_final_1Oct14_collapsereps.txt -o coralpond2/coralpond2_all_wIntPert.biom -s 'Location:CoralPond2,Intake,FijiRock,Tropical'"
     ],
     "language": "python",
     "metadata": {},
     "outputs": []
    },
    {
     "cell_type": "code",
     "collapsed": false,
     "input": [
      "!filter_samples_from_otu_table.py -i coralpond1/coralpond1_all_wIntPert.biom -o coralpond1/coralpond1_water_IntPert.biom -m /Users/hollybik/Desktop/data/aquarium_data/mapping_files/final_dataset/AQmapfile_ALLRUNS5_final_1Oct14_collapsereps.txt -s 'SampleType:Water,Intake,Filter,Whatman'"
     ],
     "language": "python",
     "metadata": {},
     "outputs": []
    },
    {
     "cell_type": "code",
     "collapsed": false,
     "input": [
      "!filter_samples_from_otu_table.py -i coralpond1/coralpond1_all_wIntPert.biom -o coralpond1/coralpond1_sed_IntPert.biom -m /Users/hollybik/Desktop/data/aquarium_data/mapping_files/final_dataset/AQmapfile_ALLRUNS5_final_1Oct14_collapsereps.txt -s 'SampleType:Sand,Sediment,Filter,Whatman'"
     ],
     "language": "python",
     "metadata": {},
     "outputs": []
    },
    {
     "cell_type": "code",
     "collapsed": false,
     "input": [
      "!filter_samples_from_otu_table.py -i coralpond2/coralpond2_all_wIntPert.biom -o coralpond2/coralpond2_water_IntPert.biom -m /Users/hollybik/Desktop/data/aquarium_data/mapping_files/final_dataset/AQmapfile_ALLRUNS5_final_1Oct14_collapsereps.txt -s 'SampleType:Water,Intake,Filter,Whatman'"
     ],
     "language": "python",
     "metadata": {},
     "outputs": []
    },
    {
     "cell_type": "code",
     "collapsed": false,
     "input": [
      "!filter_samples_from_otu_table.py -i coralpond2/coralpond2_all_wIntPert.biom -o coralpond2/coralpond2_sed_IntPert.biom -m /Users/hollybik/Desktop/data/aquarium_data/mapping_files/final_dataset/AQmapfile_ALLRUNS5_final_1Oct14_collapsereps.txt -s 'SampleType:Sand,Sediment,Filter,Whatman'"
     ],
     "language": "python",
     "metadata": {},
     "outputs": []
    },
    {
     "cell_type": "markdown",
     "metadata": {},
     "source": [
      "###Cleaning up MPR closed ref dataset\n",
      "\n",
      "First, filter out chloroplast/mitochondria/unassigned sequences from BIOM table:"
     ]
    },
    {
     "cell_type": "code",
     "collapsed": false,
     "input": [
      "!filter_taxa_from_otu_table.py -i /Users/hollybik/Desktop/data/aquarium_data/MPR_uclust_97_closedref_10July14/otu_table_w_tax.biom -o /Users/hollybik/Desktop/data/aquarium_data/MPR_uclust_97_closedref_10July14/otu_table_w_tax_NOchloroplasts.biom -n c__Chloroplast,f__mitochondria,Unassigned"
     ],
     "language": "python",
     "metadata": {},
     "outputs": []
    },
    {
     "cell_type": "markdown",
     "metadata": {},
     "source": [
      "Next, discard samples (Koi pond, etc.) and then collapse reps (because I'm going back to the original BIOM table), and finally remove singletons:"
     ]
    },
    {
     "cell_type": "code",
     "collapsed": false,
     "input": [
      "!filter_samples_from_otu_table.py -i otu_table_w_tax_NOchloroplasts.biom -o otu_table_w_tax_NOchloroplasts_filtered_13Feb15.biom --sample_id_fp=/Users/hollybik/Documents/GitHub/aquarium_project/final_dataset/mapping_files/samples_to_keep_uniq_1Oct14.txt"
     ],
     "language": "python",
     "metadata": {},
     "outputs": []
    },
    {
     "cell_type": "code",
     "collapsed": false,
     "input": [
      "!summarize_otu_by_cat.py -m /Users/hollybik/Documents/GitHub/aquarium_project/final_dataset/mapping_files/AQmapfile_ALLRUNS5_final_1Oct14.txt -i otu_table_w_tax_NOchloroplasts_filtered_13Feb15.biom -c collapsereps -o otu_table_w_tax_NOchloroplasts_filtered_collapsereps_13Feb15.biom "
     ],
     "language": "python",
     "metadata": {},
     "outputs": []
    },
    {
     "cell_type": "code",
     "collapsed": false,
     "input": [
      "!filter_otus_from_otu_table.py -i otu_table_w_tax_NOchloroplasts_filtered_collapsereps_13Feb_15.biom -o otu_table_w_tax_NOchloroplasts_filtered_collapsereps_NOsingletons_13Feb15.txt -n 2"
     ],
     "language": "python",
     "metadata": {},
     "outputs": []
    },
    {
     "cell_type": "markdown",
     "metadata": {},
     "source": [
      "For some reason, summarizing the OTU table by category added the metadata to the end. Which is not what I want, because it's using the sample IDs with the .r1 extension, etc. So I'm converting BIOM to classic OTU table, then back to BIOM with the new metadata:"
     ]
    },
    {
     "cell_type": "code",
     "collapsed": false,
     "input": [
      "!biom convert -i otu_table_w_tax_NOchloroplasts_filtered_collapsereps_NOsingletons_13Feb15.biom -o otu_table_w_tax_NOchloroplasts_filtered_collapsereps_NOsingletons_13Feb15_classic.txt -b --header-key=taxonomy"
     ],
     "language": "python",
     "metadata": {},
     "outputs": []
    },
    {
     "cell_type": "code",
     "collapsed": false,
     "input": [
      "!biom convert -i otu_table_w_tax_NOchloroplasts_filtered_collapsereps_NOsingletons_13Feb15_classic.txt -o otu_table_w_tax_NOchloroplasts_filtered_collapsereps_NOsingletons_13Feb15_replacedmetadata.biom -m /Users/hollybik/Documents/GitHub/aquarium_project/final_dataset/mapping_files/AQmapfile_ALLRUNS5_final_1Oct14_collapsereps.txt --table-type=\"otu table\" --process-obs-metadata=taxonomy"
     ],
     "language": "python",
     "metadata": {},
     "outputs": []
    },
    {
     "cell_type": "markdown",
     "metadata": {},
     "source": [
      "Next, I'm splitting the BIOM files into Coral Pond 1 and Coral Pond 2 (and then sediment/water for each CP as well):"
     ]
    },
    {
     "cell_type": "code",
     "collapsed": false,
     "input": [
      "!filter_samples_from_otu_table.py -i otu_table_w_tax_NOchloroplasts_filtered_collapsereps_NOsingletons_13Feb15_replacedmetadata.biom -o coralpond1/coralpond1_all.biom -m /Users/hollybik/Documents/GitHub/aquarium_project/final_dataset/mapping_files/AQmapfile_ALLRUNS5_final_1Oct14_collapsereps.txt -s 'Location:CoralPond1'"
     ],
     "language": "python",
     "metadata": {},
     "outputs": []
    },
    {
     "cell_type": "code",
     "collapsed": false,
     "input": [
      "!filter_samples_from_otu_table.py -i otu_table_w_tax_NOchloroplasts_filtered_collapsereps_NOsingletons_13Feb15_replacedmetadata.biom -o coralpond2/coralpond2_all.biom -m /Users/hollybik/Documents/GitHub/aquarium_project/final_dataset/mapping_files/AQmapfile_ALLRUNS5_final_1Oct14_collapsereps.txt -s 'Location:CoralPond2'"
     ],
     "language": "python",
     "metadata": {},
     "outputs": []
    },
    {
     "cell_type": "code",
     "collapsed": false,
     "input": [
      "!filter_samples_from_otu_table.py -i coralpond2/coralpond2_all.biom -o coralpond2/coralpond2_sed.biom -m /Users/hollybik/Documents/GitHub/aquarium_project/final_dataset/mapping_files/AQmapfile_ALLRUNS5_final_1Oct14_collapsereps.txt -s 'SampleType:Sand,Sediment'"
     ],
     "language": "python",
     "metadata": {},
     "outputs": []
    },
    {
     "cell_type": "code",
     "collapsed": false,
     "input": [
      "!filter_samples_from_otu_table.py -i coralpond1/coralpond1_all.biom -o coralpond1/coralpond1_sed.biom -m /Users/hollybik/Documents/GitHub/aquarium_project/final_dataset/mapping_files/AQmapfile_ALLRUNS5_final_1Oct14_collapsereps.txt -s 'SampleType:Sand,Sediment'"
     ],
     "language": "python",
     "metadata": {},
     "outputs": []
    },
    {
     "cell_type": "code",
     "collapsed": false,
     "input": [
      "!filter_samples_from_otu_table.py -i coralpond1/coralpond1_all.biom -o coralpond1/coralpond1_water.biom -m /Users/hollybik/Documents/GitHub/aquarium_project/final_dataset/mapping_files/AQmapfile_ALLRUNS5_final_1Oct14_collapsereps.txt -s 'SampleType:Water,Intake'"
     ],
     "language": "python",
     "metadata": {},
     "outputs": []
    },
    {
     "cell_type": "code",
     "collapsed": false,
     "input": [
      "!filter_samples_from_otu_table.py -i coralpond2/coralpond2_all.biom -o coralpond2/coralpond2_water.biom -m /Users/hollybik/Documents/GitHub/aquarium_project/final_dataset/mapping_files/AQmapfile_ALLRUNS5_final_1Oct14_collapsereps.txt -s 'SampleType:Water,Intake'"
     ],
     "language": "python",
     "metadata": {},
     "outputs": []
    },
    {
     "cell_type": "markdown",
     "metadata": {},
     "source": [
      "##Aligning and Building trees for subsets of OTUs in new BIOM tables\n",
      "\n",
      "First, filtering things for **Merged-only Open Ref OTUs**"
     ]
    },
    {
     "cell_type": "code",
     "collapsed": false,
     "input": [
      "!filter_fasta.py -f /Users/hollybik/Desktop/data/aquarium_data/MergedOnly_uclust_97_openref_10pctsub_14Dec14/pynast_aligned_seqs/rep_set_aligned_pfiltered.fasta -o collapsedreps_NOsingletons_pfiltered_seqs.fasta -b /Users/hollybik/Desktop/data/aquarium_data/MergedOnly_uclust_97_openref_10pctsub_14Dec14/chimera_chloroplasts_filtered/otu_table_mc2_w_tax_no_pynast_failures_no_chimeras_NOchloroplasts_filtered_collapsereps_24Feb15_replacedmetadata_NOsingletons.biom "
     ],
     "language": "python",
     "metadata": {},
     "outputs": []
    },
    {
     "cell_type": "code",
     "collapsed": false,
     "input": [
      "!filter_fasta.py -f /Users/hollybik/Desktop/data/aquarium_data/MergedOnly_uclust_97_openref_10pctsub_14Dec14/pynast_aligned_seqs/rep_set_aligned_pfiltered.fasta -o coralpond1/coralpond1_aligned_pfiltered.fasta -b coralpond1/coralpond1_all.biom"
     ],
     "language": "python",
     "metadata": {},
     "outputs": []
    },
    {
     "cell_type": "code",
     "collapsed": false,
     "input": [
      "!filter_fasta.py -f /Users/hollybik/Desktop/data/aquarium_data/MergedOnly_uclust_97_openref_10pctsub_14Dec14/pynast_aligned_seqs/rep_set_aligned_pfiltered.fasta -o coralpond2/coralpond2_aligned_pfiltered.fasta -b coralpond2/coralpond2_all.biom"
     ],
     "language": "python",
     "metadata": {},
     "outputs": []
    },
    {
     "cell_type": "markdown",
     "metadata": {},
     "source": [
      "Building phylogenies:"
     ]
    },
    {
     "cell_type": "code",
     "collapsed": false,
     "input": [
      "!make_phylogeny.py -i coralpond1/coralpond1_aligned_pfiltered.fasta -o coralpond1/coralpond1_pfiltered_repset.tre --root_method tree_method_default --tree_method fasttree"
     ],
     "language": "python",
     "metadata": {},
     "outputs": []
    },
    {
     "cell_type": "code",
     "collapsed": false,
     "input": [
      "!make_phylogeny.py -i /Users/hollybik/Desktop/data/aquarium_data/MergedOnly_uclust_97_openref_10pctsub_14Dec14/chimera_chloroplasts_filtered/coralpond2/coralpond2_aligned_pfiltered.fasta -o /Users/hollybik/Desktop/data/aquarium_data/MergedOnly_uclust_97_openref_10pctsub_14Dec14/chimera_chloroplasts_filtered/coralpond2/coralpond2_pfiltered_repset.tre --root_method tree_method_default --tree_method fasttree"
     ],
     "language": "python",
     "metadata": {},
     "outputs": []
    },
    {
     "cell_type": "code",
     "collapsed": false,
     "input": [
      "!make_phylogeny.py -i /Users/hollybik/Desktop/data/aquarium_data/MergedOnly_uclust_97_openref_10pctsub_14Dec14/chimera_chloroplasts_filtered/collapsedreps_NOsingletons_pfiltered_seqs.fasta -o /Users/hollybik/Desktop/data/aquarium_data/MergedOnly_uclust_97_openref_10pctsub_14Dec14/chimera_chloroplasts_filtered/collapsedreps_NOsingletons_pfiltered_repset.tre --root_method tree_method_default --tree_method fasttree"
     ],
     "language": "python",
     "metadata": {},
     "outputs": []
    },
    {
     "cell_type": "markdown",
     "metadata": {},
     "source": [
      "Now Filtering things for **MPR closed ref** dataset"
     ]
    },
    {
     "cell_type": "code",
     "collapsed": false,
     "input": [
      "!filter_fasta.py -f ../rep_set.fna -o collapsedreps_NOsingletons_repset.fasta -b otu_table_w_tax_NOchloroplasts_filtered_collapsereps_NOsingletons_13Feb15_replacedmetadata.biom"
     ],
     "language": "python",
     "metadata": {},
     "outputs": []
    },
    {
     "cell_type": "code",
     "collapsed": false,
     "input": [
      "!filter_fasta.py -f /Users/hollybik/Desktop/data/aquarium_data/MPR_uclust_97_closedref_10July14/rep_set.fna -o /Users/hollybik/Desktop/data/aquarium_data/MPR_uclust_97_closedref_10July14/chloroplasts_filtered/coralpond1/coralpond1_repset_NOsingletons.fasta -b /Users/hollybik/Desktop/data/aquarium_data/MPR_uclust_97_closedref_10July14/chloroplasts_filtered/coralpond1/coralpond1_all.biom"
     ],
     "language": "python",
     "metadata": {},
     "outputs": []
    },
    {
     "cell_type": "code",
     "collapsed": false,
     "input": [
      "!filter_fasta.py -f /Users/hollybik/Desktop/data/aquarium_data/MPR_uclust_97_closedref_10July14/rep_set.fna -o /Users/hollybik/Desktop/data/aquarium_data/MPR_uclust_97_closedref_10July14/chloroplasts_filtered/coralpond2/coralpond2_repset_NOsingletons.fasta -b /Users/hollybik/Desktop/data/aquarium_data/MPR_uclust_97_closedref_10July14/chloroplasts_filtered/coralpond2/coralpond2_all.biom"
     ],
     "language": "python",
     "metadata": {},
     "outputs": []
    },
    {
     "cell_type": "markdown",
     "metadata": {},
     "source": [
      "##Beta Diversity Analyses on Latest Filtered Datasets##\n",
      "\n",
      "Merged Only Open Ref OTU picking:"
     ]
    },
    {
     "cell_type": "code",
     "collapsed": false,
     "input": [
      "!beta_diversity_through_plots.py -i otu_table_mc2_w_tax_no_pynast_failures_no_chimeras_NOchloroplasts_filtered_collapsereps_24Feb15_replacedmetadata_NOsingletons.biom -m /Users/hollybik/Desktop/data/aquarium_data/mapping_files/final_dataset/AQmapfile_ALLRUNS5_final_1Oct14_collapsereps.txt -p /Users/hollybik/Desktop/data/aquarium_data/parameter_files/params_unweightedunifrac.txt -e 1000 -o /Users/hollybik/Desktop/data/aquarium_data/MergedOnly_uclust_97_openref_10pctsub_14Dec14/chimera_chloroplasts_filtered/beta_div/unweight_unif_1000 -a -O 2 -t /Users/hollybik/Desktop/data/aquarium_data/MergedOnly_uclust_97_openref_10pctsub_14Dec14/chimera_chloroplasts_filtered/collapsedreps_NOsingletons_pfiltered_repset.tre"
     ],
     "language": "python",
     "metadata": {},
     "outputs": []
    },
    {
     "cell_type": "code",
     "collapsed": false,
     "input": [
      "!beta_diversity_through_plots.py -i otu_table_mc2_w_tax_no_pynast_failures_no_chimeras_NOchloroplasts_filtered_collapsereps_24Feb15_replacedmetadata_NOsingletons.biom -m /Users/hollybik/Desktop/data/aquarium_data/mapping_files/final_dataset/AQmapfile_ALLRUNS5_final_1Oct14_collapsereps.txt -p /Users/hollybik/Desktop/data/aquarium_data/parameter_files/params_weightedunifrac.txt -e 1000 -o /Users/hollybik/Desktop/data/aquarium_data/MergedOnly_uclust_97_openref_10pctsub_14Dec14/chimera_chloroplasts_filtered/beta_div/weighted_unif_1000 -a -O 2 -t /Users/hollybik/Desktop/data/aquarium_data/MergedOnly_uclust_97_openref_10pctsub_14Dec14/chimera_chloroplasts_filtered/collapsedreps_NOsingletons_pfiltered_repset.tre"
     ],
     "language": "python",
     "metadata": {},
     "outputs": []
    },
    {
     "cell_type": "code",
     "collapsed": false,
     "input": [
      "!beta_diversity_through_plots.py -i otu_table_mc2_w_tax_no_pynast_failures_no_chimeras_NOchloroplasts_filtered_collapsereps_24Feb15_replacedmetadata_NOsingletons.biom -m /Users/hollybik/Desktop/data/aquarium_data/mapping_files/final_dataset/AQmapfile_ALLRUNS5_final_1Oct14_collapsereps.txt -p /Users/hollybik/Desktop/data/aquarium_data/parameter_files/params_braycurtis.txt -e 1000 -o /Users/hollybik/Desktop/data/aquarium_data/MergedOnly_uclust_97_openref_10pctsub_14Dec14/chimera_chloroplasts_filtered/beta_div/bc_1000 -a -O 2"
     ],
     "language": "python",
     "metadata": {},
     "outputs": []
    },
    {
     "cell_type": "code",
     "collapsed": false,
     "input": [
      "!beta_diversity_through_plots.py -i otu_table_mc2_w_tax_no_pynast_failures_no_chimeras_NOchloroplasts_filtered_collapsereps_24Feb15_replacedmetadata_NOsingletons.biom -m /Users/hollybik/Desktop/data/aquarium_data/mapping_files/final_dataset/AQmapfile_ALLRUNS5_final_1Oct14_collapsereps.txt -p /Users/hollybik/Desktop/data/aquarium_data/parameter_files/params_jaccard.txt -e 1000 -o /Users/hollybik/Desktop/data/aquarium_data/MergedOnly_uclust_97_openref_10pctsub_14Dec14/chimera_chloroplasts_filtered/beta_div/jaccard_1000 -a -O 2"
     ],
     "language": "python",
     "metadata": {},
     "outputs": []
    },
    {
     "cell_type": "code",
     "collapsed": false,
     "input": [
      "!beta_diversity_through_plots.py -i otu_table_mc2_w_tax_no_pynast_failures_no_chimeras_NOchloroplasts_filtered_collapsereps_24Feb15_replacedmetadata_NOsingletons.biom -m /Users/hollybik/Desktop/data/aquarium_data/mapping_files/final_dataset/AQmapfile_ALLRUNS5_final_1Oct14_collapsereps.txt -p /Users/hollybik/Desktop/data/aquarium_data/parameter_files/params_canberra.txt -e 1000 -o /Users/hollybik/Desktop/data/aquarium_data/MergedOnly_uclust_97_openref_10pctsub_14Dec14/chimera_chloroplasts_filtered/beta_div/canberra_1000 -a -O 2"
     ],
     "language": "python",
     "metadata": {},
     "outputs": []
    },
    {
     "cell_type": "markdown",
     "metadata": {},
     "source": [
      "8/4/15 - Merged Only Unifrac (weighted/unweighted) on CP1 and CP2"
     ]
    },
    {
     "cell_type": "code",
     "collapsed": false,
     "input": [
      "!beta_diversity_through_plots.py -i /Users/hollybik/Desktop/data/aquarium_data/MergedOnly_uclust_97_openref_10pctsub_14Dec14/chimera_chloroplasts_filtered/coralpond1/coralpond1_all_wIntPert.biom -m /Users/hollybik/Desktop/data/aquarium_data/mapping_files/final_dataset/AQmapfile_ALLRUNS5_final_1Oct14_collapsereps_betadiv_7May15.txt -p /Users/hollybik/Desktop/data/aquarium_data/parameter_files/params_unweightedunifrac.txt -e 1000 -o betadiv1000_all_IntPert_ununif -a -O 2 -t /Users/hollybik/Desktop/data/aquarium_data/MergedOnly_uclust_97_openref_10pctsub_14Dec14/chimera_chloroplasts_filtered/coralpond1/coralpond1_pfiltered_repset.tre"
     ],
     "language": "python",
     "metadata": {},
     "outputs": []
    },
    {
     "cell_type": "code",
     "collapsed": false,
     "input": [
      "!beta_diversity_through_plots.py -i /Users/hollybik/Desktop/data/aquarium_data/MergedOnly_uclust_97_openref_10pctsub_14Dec14/chimera_chloroplasts_filtered/coralpond1/coralpond1_all_wIntPert.biom -m /Users/hollybik/Desktop/data/aquarium_data/mapping_files/final_dataset/AQmapfile_ALLRUNS5_final_1Oct14_collapsereps_betadiv_7May15.txt -p /Users/hollybik/Desktop/data/aquarium_data/parameter_files/params_weightedunifrac.txt -e 1000 -o betadiv1000_all_IntPert_weightunif -a -O 2 -t /Users/hollybik/Desktop/data/aquarium_data/MergedOnly_uclust_97_openref_10pctsub_14Dec14/chimera_chloroplasts_filtered/coralpond1/coralpond1_pfiltered_repset.tre"
     ],
     "language": "python",
     "metadata": {},
     "outputs": []
    },
    {
     "cell_type": "code",
     "collapsed": false,
     "input": [
      "!beta_diversity_through_plots.py -i /Users/hollybik/Desktop/data/aquarium_data/MergedOnly_uclust_97_openref_10pctsub_14Dec14/chimera_chloroplasts_filtered/coralpond2/coralpond2_all_wIntPert.biom -m /Users/hollybik/Desktop/data/aquarium_data/mapping_files/final_dataset/AQmapfile_ALLRUNS5_final_1Oct14_collapsereps_betadiv_7May15.txt -p /Users/hollybik/Desktop/data/aquarium_data/parameter_files/params_unweightedunifrac.txt -e 1000 -o betadiv1000_all_IntPert_ununif -a -O 2 -t /Users/hollybik/Desktop/data/aquarium_data/MergedOnly_uclust_97_openref_10pctsub_14Dec14/chimera_chloroplasts_filtered/coralpond2/coralpond2_pfiltered_repset.tre"
     ],
     "language": "python",
     "metadata": {},
     "outputs": []
    },
    {
     "cell_type": "code",
     "collapsed": false,
     "input": [
      "!beta_diversity_through_plots.py -i /Users/hollybik/Desktop/data/aquarium_data/MergedOnly_uclust_97_openref_10pctsub_14Dec14/chimera_chloroplasts_filtered/coralpond2/coralpond2_all_wIntPert.biom -m /Users/hollybik/Desktop/data/aquarium_data/mapping_files/final_dataset/AQmapfile_ALLRUNS5_final_1Oct14_collapsereps_betadiv_7May15.txt -p /Users/hollybik/Desktop/data/aquarium_data/parameter_files/params_weightedunifrac.txt -e 1000 -o betadiv1000_all_IntPert_weightunif -a -O 2 -t /Users/hollybik/Desktop/data/aquarium_data/MergedOnly_uclust_97_openref_10pctsub_14Dec14/chimera_chloroplasts_filtered/coralpond2/coralpond2_pfiltered_repset.tre"
     ],
     "language": "python",
     "metadata": {},
     "outputs": []
    },
    {
     "cell_type": "markdown",
     "metadata": {},
     "source": [
      "8/4/15 - Merged only Unifrac on CP1 on sed and water samples separately (rareify at 1000)"
     ]
    },
    {
     "cell_type": "code",
     "collapsed": false,
     "input": [
      "!beta_diversity_through_plots.py -i /Users/hollybik/Desktop/data/aquarium_data/MergedOnly_uclust_97_openref_10pctsub_14Dec14/chimera_chloroplasts_filtered/coralpond1/coralpond1_sed_IntPert.biom -m /Users/hollybik/Desktop/data/aquarium_data/mapping_files/final_dataset/AQmapfile_ALLRUNS5_final_1Oct14_collapsereps_betadiv_7May15.txt -p /Users/hollybik/Desktop/data/aquarium_data/parameter_files/params_unweightedunifrac.txt -e 1000 -o betadiv1000_sed_IntPert_ununif -a -O 2 -t /Users/hollybik/Desktop/data/aquarium_data/MergedOnly_uclust_97_openref_10pctsub_14Dec14/chimera_chloroplasts_filtered/coralpond1/coralpond1_pfiltered_repset.tre"
     ],
     "language": "python",
     "metadata": {},
     "outputs": []
    },
    {
     "cell_type": "code",
     "collapsed": false,
     "input": [
      "!beta_diversity_through_plots.py -i /Users/hollybik/Desktop/data/aquarium_data/MergedOnly_uclust_97_openref_10pctsub_14Dec14/chimera_chloroplasts_filtered/coralpond1/coralpond1_sed_IntPert.biom -m /Users/hollybik/Desktop/data/aquarium_data/mapping_files/final_dataset/AQmapfile_ALLRUNS5_final_1Oct14_collapsereps_betadiv_7May15.txt -p /Users/hollybik/Desktop/data/aquarium_data/parameter_files/params_weightedunifrac.txt -e 1000 -o betadiv1000_sed_IntPert_weightunif -a -O 2 -t /Users/hollybik/Desktop/data/aquarium_data/MergedOnly_uclust_97_openref_10pctsub_14Dec14/chimera_chloroplasts_filtered/coralpond1/coralpond1_pfiltered_repset.tre"
     ],
     "language": "python",
     "metadata": {},
     "outputs": []
    },
    {
     "cell_type": "code",
     "collapsed": false,
     "input": [
      "!beta_diversity_through_plots.py -i /Users/hollybik/Desktop/data/aquarium_data/MergedOnly_uclust_97_openref_10pctsub_14Dec14/chimera_chloroplasts_filtered/coralpond1/coralpond1_water_IntPert.biom -m /Users/hollybik/Desktop/data/aquarium_data/mapping_files/final_dataset/AQmapfile_ALLRUNS5_final_1Oct14_collapsereps_betadiv_7May15.txt -p /Users/hollybik/Desktop/data/aquarium_data/parameter_files/params_unweightedunifrac.txt -e 1000 -o betadiv1000_water_IntPert_ununif -a -O 2 -t /Users/hollybik/Desktop/data/aquarium_data/MergedOnly_uclust_97_openref_10pctsub_14Dec14/chimera_chloroplasts_filtered/coralpond1/coralpond1_pfiltered_repset.tre"
     ],
     "language": "python",
     "metadata": {},
     "outputs": []
    },
    {
     "cell_type": "code",
     "collapsed": false,
     "input": [
      "!beta_diversity_through_plots.py -i /Users/hollybik/Desktop/data/aquarium_data/MergedOnly_uclust_97_openref_10pctsub_14Dec14/chimera_chloroplasts_filtered/coralpond1/coralpond1_water_IntPert.biom -m /Users/hollybik/Desktop/data/aquarium_data/mapping_files/final_dataset/AQmapfile_ALLRUNS5_final_1Oct14_collapsereps_betadiv_7May15.txt -p /Users/hollybik/Desktop/data/aquarium_data/parameter_files/params_weightedunifrac.txt -e 1000 -o betadiv1000_water_IntPert_weightunif -a -O 2 -t /Users/hollybik/Desktop/data/aquarium_data/MergedOnly_uclust_97_openref_10pctsub_14Dec14/chimera_chloroplasts_filtered/coralpond1/coralpond1_pfiltered_repset.tre"
     ],
     "language": "python",
     "metadata": {},
     "outputs": []
    },
    {
     "cell_type": "markdown",
     "metadata": {},
     "source": [
      "##Group Significance##\n",
      "\n",
      "Merged-Only Chimera filtered (whole dataset):"
     ]
    },
    {
     "cell_type": "code",
     "collapsed": false,
     "input": [
      "!group_significance.py -i otu_table_mc2_w_tax_no_pynast_failures_no_chimeras_NOchloroplasts_filtered_collapsereps_24Feb15_replacedmetadata_NOsingletons.biom -m /Users/hollybik/Desktop/data/aquarium_data/mapping_files/final_dataset/AQmapfile_ALLRUNS5_final_1Oct14_collapsereps.txt -s kruskal_wallis -c Nitrate -o group_significance/kw_Nitrate"
     ],
     "language": "python",
     "metadata": {},
     "outputs": []
    },
    {
     "cell_type": "code",
     "collapsed": false,
     "input": [
      "!group_significance.py -i otu_table_mc2_w_tax_no_pynast_failures_no_chimeras_NOchloroplasts_filtered_collapsereps_24Feb15_replacedmetadata_NOsingletons.biom -m /Users/hollybik/Desktop/data/aquarium_data/mapping_files/final_dataset/AQmapfile_ALLRUNS5_final_1Oct14_collapsereps.txt -s kruskal_wallis -c Nitrite -o group_significance/kw_Nitrite"
     ],
     "language": "python",
     "metadata": {},
     "outputs": []
    },
    {
     "cell_type": "markdown",
     "metadata": {},
     "source": [
      "##Beta Diversity - Continued\n",
      "\n",
      "This happened sometime in August 2015 - rarefied at 100 to keep some of the lower coverage samples in"
     ]
    },
    {
     "cell_type": "code",
     "collapsed": false,
     "input": [
      "beta_diversity_through_plots.py -i coralpond1_all_wIntPert.biom -m /Users/hollybik/Desktop/data/aquarium_data/mapping_files/final_dataset/AQmapfile_ALLRUNS5_final_1Oct14_collapsereps_betadiv_7May15.txt -p /Users/hollybik/Desktop/data/aquarium_data/parameter_files/params_unweightedunifrac.txt -e 100 -o beta100_all_IntPert_ununif -a -O 2 -t coralpond1_pfiltered_repset.tre"
     ],
     "language": "python",
     "metadata": {},
     "outputs": []
    },
    {
     "cell_type": "code",
     "collapsed": false,
     "input": [
      "beta_diversity_through_plots.py -i coralpond1_sed_IntPert.biom -m /Users/hollybik/Desktop/data/aquarium_data/mapping_files/final_dataset/AQmapfile_ALLRUNS5_final_1Oct14_collapsereps_betadiv_7May15.txt -p /Users/hollybik/Desktop/data/aquarium_data/parameter_files/params_unweightedunifrac.txt -e 100 -o beta100_sed_IntPert_ununif -a -O 2 -t coralpond1_pfiltered_repset.tre"
     ],
     "language": "python",
     "metadata": {},
     "outputs": []
    },
    {
     "cell_type": "code",
     "collapsed": false,
     "input": [
      "beta_diversity_through_plots.py -i coralpond1_water_IntPert.biom -m /Users/hollybik/Desktop/data/aquarium_data/mapping_files/final_dataset/AQmapfile_ALLRUNS5_final_1Oct14_collapsereps_betadiv_7May15.txt -p /Users/hollybik/Desktop/data/aquarium_data/parameter_files/params_unweightedunifrac.txt -e 100 -o beta100_water_IntPert_ununif -a -O 2 -t coralpond1_pfiltered_repset.tre"
     ],
     "language": "python",
     "metadata": {},
     "outputs": []
    },
    {
     "cell_type": "markdown",
     "metadata": {},
     "source": [
      "Summarize taxa for putting doing biplots (putting taxonomy onto PCoAs)"
     ]
    },
    {
     "cell_type": "code",
     "collapsed": false,
     "input": [
      "summarize_taxa.py -i coralpond1_all_wIntPert.biom -o tax_CP1_all_IntPert"
     ],
     "language": "python",
     "metadata": {},
     "outputs": []
    },
    {
     "cell_type": "code",
     "collapsed": false,
     "input": [
      "summarize_taxa.py -i coralpond1_sed_IntPert.biom -o tax_CP1_sed_IntPert"
     ],
     "language": "python",
     "metadata": {},
     "outputs": []
    },
    {
     "cell_type": "code",
     "collapsed": false,
     "input": [
      "summarize_taxa.py -i coralpond1_water_IntPert.biom -o tax_CP1_water_IntPert"
     ],
     "language": "python",
     "metadata": {},
     "outputs": []
    },
    {
     "cell_type": "markdown",
     "metadata": {},
     "source": [
      "Make Emperor - overlay taxonomy strings onto PCoAs:"
     ]
    },
    {
     "cell_type": "code",
     "collapsed": false,
     "input": [
      "make_emperor.py -i beta100_all_IntPert_ununif/unweighted_unifrac_pc.txt -m /Users/hollybik/Desktop/data/aquarium_data/mapping_files/final_dataset/AQmapfile_ALLRUNS5_final_1Oct14_collapsereps_betadiv_7May15.txt -t tax_CP1_all_IntPert/coralpond1_all_wIntPert_L6.txt -o beta100_all_IntPert_ununif/3dplots_ununif_L6 -n 10 --biplot_fp beta100_all_IntPert_ununif/3dplots_ununiv_L6_points.txt"
     ],
     "language": "python",
     "metadata": {},
     "outputs": []
    },
    {
     "cell_type": "code",
     "collapsed": false,
     "input": [
      "make_emperor.py -i beta100_sed_IntPert_ununif/unweighted_unifrac_pc.txt -m /Users/hollybik/Desktop/data/aquarium_data/mapping_files/final_dataset/AQmapfile_ALLRUNS5_final_1Oct14_collapsereps_betadiv_7May15.txt -t tax_CP1_sed_IntPert/coralpond1_sed_IntPert_L6.txt -o beta100_sed_IntPert_ununif/3dplots_ununif_L6 -n 10 --biplot_fp beta100_sed_IntPert_ununif/3dplots_ununiv_L6_points.txt"
     ],
     "language": "python",
     "metadata": {},
     "outputs": []
    },
    {
     "cell_type": "code",
     "collapsed": false,
     "input": [
      "make_emperor.py -i beta100_water_IntPert_ununif/unweighted_unifrac_pc.txt -m /Users/hollybik/Desktop/data/aquarium_data/mapping_files/final_dataset/AQmapfile_ALLRUNS5_final_1Oct14_collapsereps_betadiv_7May15.txt -t tax_CP1_water_IntPert/coralpond1_water_IntPert_L6.txt -o beta100_water_IntPert_ununif/3dplots_ununif_L6 -n 10 --biplot_fp beta100_water_IntPert_ununif/3dplots_ununiv_L6_points.txt"
     ],
     "language": "python",
     "metadata": {},
     "outputs": []
    },
    {
     "cell_type": "code",
     "collapsed": false,
     "input": [
      "make_emperor.py -i betadiv1000_all_IntPert_ununif/unweighted_unifrac_pc.txt -m /Users/hollybik/Dropbox/Projects/aquarium_project/mapping_files/final_dataset/AQmapfile_ALLRUNS5_final_1Oct14_collapsereps_betadiv_7May15.txt -t tax_CP1_all_IntPert/coralpond1_all_wIntPert_L6.txt -o betadiv1000_all_IntPert_ununif/3dplots_ununif_L6 -n 10 --biplot_fp betadiv1000_all_IntPert_ununif/3dplots_ununiv_L6_points.txt"
     ],
     "language": "python",
     "metadata": {},
     "outputs": []
    },
    {
     "cell_type": "code",
     "collapsed": false,
     "input": [
      "make_emperor.py -i betadiv1000_sed_IntPert_ununif/unweighted_unifrac_pc.txt -m /Users/hollybik/Dropbox/Projects/aquarium_project/mapping_files/final_dataset/AQmapfile_ALLRUNS5_final_1Oct14_collapsereps_betadiv_7May15.txt -t tax_CP1_sed_IntPert/coralpond1_sed_IntPert_L6.txt -o betadiv1000_sed_IntPert_ununif/3dplots_ununif_L6 -n 10 --biplot_fp betadiv1000_sed_IntPert_ununif/3dplots_ununiv_L6_points.txt"
     ],
     "language": "python",
     "metadata": {},
     "outputs": []
    },
    {
     "cell_type": "code",
     "collapsed": false,
     "input": [
      "make_emperor.py -i betadiv1000_water_IntPert_ununif/unweighted_unifrac_pc.txt -m /Users/hollybik/Dropbox/Projects/aquarium_project/mapping_files/final_dataset/AQmapfile_ALLRUNS5_final_1Oct14_collapsereps_betadiv_7May15.txt -t tax_CP1_water_IntPert/coralpond1_water_IntPert_L6.txt -o betadiv1000_water_IntPert_ununif/3dplots_ununif_L6 -n 10 --biplot_fp betadiv1000_water_IntPert_ununif/3dplots_ununiv_L6_points.txt"
     ],
     "language": "python",
     "metadata": {},
     "outputs": []
    }
   ],
   "metadata": {}
  }
 ]
}